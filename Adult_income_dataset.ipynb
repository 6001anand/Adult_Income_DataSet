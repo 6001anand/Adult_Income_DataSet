{
  "nbformat": 4,
  "nbformat_minor": 0,
  "metadata": {
    "colab": {
      "name": "Welcome_To_Colaboratory.ipynb",
      "provenance": [],
      "collapsed_sections": []
    },
    "kernelspec": {
      "display_name": "Python 3",
      "name": "python3"
    }
  },
  "cells": [
    {
      "cell_type": "markdown",
      "metadata": {
        "id": "RXF61Tjxk4Tm"
      },
      "source": [
        "Import basic library"
      ]
    },
    {
      "cell_type": "code",
      "metadata": {
        "id": "WZx8Qpd6eRHX"
      },
      "source": [
        "import pandas as pd\r\n",
        "import matplotlib.pyplot as plt \r\n",
        "\r\n",
        "import seaborn as sns\r\n",
        "sns.set(rc={'figure.figsize':(12,7)})\r\n",
        "\r\n",
        "import re\r\n",
        "import numpy as np"
      ],
      "execution_count": null,
      "outputs": []
    },
    {
      "cell_type": "markdown",
      "metadata": {
        "id": "RwJZz5m8lDAI"
      },
      "source": [
        "Path of Datasets at https://archive.ics.uci.edu/ml/machine-learning-databases/adult/"
      ]
    },
    {
      "cell_type": "code",
      "metadata": {
        "id": "o08Qv-5RFeMP"
      },
      "source": [
        "data_file_path = '/content/adult.data'\r\n",
        "test_file_path = '/content/adult.test'"
      ],
      "execution_count": null,
      "outputs": []
    },
    {
      "cell_type": "code",
      "metadata": {
        "colab": {
          "base_uri": "https://localhost:8080/",
          "height": 343
        },
        "id": "La_pQbOloJT4",
        "outputId": "a0ad922a-e529-4197-95ad-0a0963ba4d16"
      },
      "source": [
        "columns_name = ['age', 'workclass', 'fnlwgt', 'education', \r\n",
        "                'education_num', 'marital_status', 'occupation', \r\n",
        "                'relationship','race', 'sex', 'capital_gain', \r\n",
        "                'capital_loss', 'hours_per_week', 'native_country',\r\n",
        "                'y_feature'\r\n",
        "]\r\n",
        "\r\n",
        "train_data = pd.read_csv(data_file_path, sep=', ')\r\n",
        "train_data.columns = columns_name\r\n",
        "\r\n",
        "train_data.head()"
      ],
      "execution_count": null,
      "outputs": [
        {
          "output_type": "stream",
          "text": [
            "/usr/local/lib/python3.6/dist-packages/ipykernel_launcher.py:8: ParserWarning: Falling back to the 'python' engine because the 'c' engine does not support regex separators (separators > 1 char and different from '\\s+' are interpreted as regex); you can avoid this warning by specifying engine='python'.\n",
            "  \n"
          ],
          "name": "stderr"
        },
        {
          "output_type": "execute_result",
          "data": {
            "text/html": [
              "<div>\n",
              "<style scoped>\n",
              "    .dataframe tbody tr th:only-of-type {\n",
              "        vertical-align: middle;\n",
              "    }\n",
              "\n",
              "    .dataframe tbody tr th {\n",
              "        vertical-align: top;\n",
              "    }\n",
              "\n",
              "    .dataframe thead th {\n",
              "        text-align: right;\n",
              "    }\n",
              "</style>\n",
              "<table border=\"1\" class=\"dataframe\">\n",
              "  <thead>\n",
              "    <tr style=\"text-align: right;\">\n",
              "      <th></th>\n",
              "      <th>age</th>\n",
              "      <th>workclass</th>\n",
              "      <th>fnlwgt</th>\n",
              "      <th>education</th>\n",
              "      <th>education_num</th>\n",
              "      <th>marital_status</th>\n",
              "      <th>occupation</th>\n",
              "      <th>relationship</th>\n",
              "      <th>race</th>\n",
              "      <th>sex</th>\n",
              "      <th>capital_gain</th>\n",
              "      <th>capital_loss</th>\n",
              "      <th>hours_per_week</th>\n",
              "      <th>native_country</th>\n",
              "      <th>y_feature</th>\n",
              "    </tr>\n",
              "  </thead>\n",
              "  <tbody>\n",
              "    <tr>\n",
              "      <th>0</th>\n",
              "      <td>50</td>\n",
              "      <td>Self-emp-not-inc</td>\n",
              "      <td>83311</td>\n",
              "      <td>Bachelors</td>\n",
              "      <td>13</td>\n",
              "      <td>Married-civ-spouse</td>\n",
              "      <td>Exec-managerial</td>\n",
              "      <td>Husband</td>\n",
              "      <td>White</td>\n",
              "      <td>Male</td>\n",
              "      <td>0</td>\n",
              "      <td>0</td>\n",
              "      <td>13</td>\n",
              "      <td>United-States</td>\n",
              "      <td>&lt;=50K</td>\n",
              "    </tr>\n",
              "    <tr>\n",
              "      <th>1</th>\n",
              "      <td>38</td>\n",
              "      <td>Private</td>\n",
              "      <td>215646</td>\n",
              "      <td>HS-grad</td>\n",
              "      <td>9</td>\n",
              "      <td>Divorced</td>\n",
              "      <td>Handlers-cleaners</td>\n",
              "      <td>Not-in-family</td>\n",
              "      <td>White</td>\n",
              "      <td>Male</td>\n",
              "      <td>0</td>\n",
              "      <td>0</td>\n",
              "      <td>40</td>\n",
              "      <td>United-States</td>\n",
              "      <td>&lt;=50K</td>\n",
              "    </tr>\n",
              "    <tr>\n",
              "      <th>2</th>\n",
              "      <td>53</td>\n",
              "      <td>Private</td>\n",
              "      <td>234721</td>\n",
              "      <td>11th</td>\n",
              "      <td>7</td>\n",
              "      <td>Married-civ-spouse</td>\n",
              "      <td>Handlers-cleaners</td>\n",
              "      <td>Husband</td>\n",
              "      <td>Black</td>\n",
              "      <td>Male</td>\n",
              "      <td>0</td>\n",
              "      <td>0</td>\n",
              "      <td>40</td>\n",
              "      <td>United-States</td>\n",
              "      <td>&lt;=50K</td>\n",
              "    </tr>\n",
              "    <tr>\n",
              "      <th>3</th>\n",
              "      <td>28</td>\n",
              "      <td>Private</td>\n",
              "      <td>338409</td>\n",
              "      <td>Bachelors</td>\n",
              "      <td>13</td>\n",
              "      <td>Married-civ-spouse</td>\n",
              "      <td>Prof-specialty</td>\n",
              "      <td>Wife</td>\n",
              "      <td>Black</td>\n",
              "      <td>Female</td>\n",
              "      <td>0</td>\n",
              "      <td>0</td>\n",
              "      <td>40</td>\n",
              "      <td>Cuba</td>\n",
              "      <td>&lt;=50K</td>\n",
              "    </tr>\n",
              "    <tr>\n",
              "      <th>4</th>\n",
              "      <td>37</td>\n",
              "      <td>Private</td>\n",
              "      <td>284582</td>\n",
              "      <td>Masters</td>\n",
              "      <td>14</td>\n",
              "      <td>Married-civ-spouse</td>\n",
              "      <td>Exec-managerial</td>\n",
              "      <td>Wife</td>\n",
              "      <td>White</td>\n",
              "      <td>Female</td>\n",
              "      <td>0</td>\n",
              "      <td>0</td>\n",
              "      <td>40</td>\n",
              "      <td>United-States</td>\n",
              "      <td>&lt;=50K</td>\n",
              "    </tr>\n",
              "  </tbody>\n",
              "</table>\n",
              "</div>"
            ],
            "text/plain": [
              "   age         workclass  fnlwgt  ... hours_per_week  native_country y_feature\n",
              "0   50  Self-emp-not-inc   83311  ...             13   United-States     <=50K\n",
              "1   38           Private  215646  ...             40   United-States     <=50K\n",
              "2   53           Private  234721  ...             40   United-States     <=50K\n",
              "3   28           Private  338409  ...             40            Cuba     <=50K\n",
              "4   37           Private  284582  ...             40   United-States     <=50K\n",
              "\n",
              "[5 rows x 15 columns]"
            ]
          },
          "metadata": {
            "tags": []
          },
          "execution_count": 4
        }
      ]
    },
    {
      "cell_type": "code",
      "metadata": {
        "colab": {
          "base_uri": "https://localhost:8080/",
          "height": 377
        },
        "id": "6wRtAE_jj9uB",
        "outputId": "3f5bb401-f187-438d-9452-cf0047045175"
      },
      "source": [
        "columns_name = ['age', 'workclass', 'fnlwgt', 'education', \r\n",
        "                'education_num', 'marital_status', 'occupation', \r\n",
        "                'relationship','race', 'sex', 'capital_gain', \r\n",
        "                'capital_loss', 'hours_per_week', 'native_country',\r\n",
        "                'y_feature'\r\n",
        "]\r\n",
        "\r\n",
        "test_data = pd.read_csv(test_file_path, sep='rare_seperator', header=None, index_col=False)\r\n",
        "test_data = test_data.iloc[1:]\r\n",
        "\r\n",
        "test_data.to_csv('adult_test.csv', index=False, header=False) \r\n",
        "\r\n",
        "test_data = pd.read_csv('/content/adult_test.csv', sep=', ', header=None, index_col=None)\r\n",
        "test_data.columns = columns_name\r\n",
        "\r\n",
        "test_data['age'] = test_data['age'].apply(lambda x: re.sub('\"', '', x)).astype(int)\r\n",
        "test_data['y_feature'] = test_data['y_feature'].apply(lambda x: re.sub('.\"', '', x))\r\n",
        "\r\n",
        "test_data.head()"
      ],
      "execution_count": null,
      "outputs": [
        {
          "output_type": "stream",
          "text": [
            "/usr/local/lib/python3.6/dist-packages/ipykernel_launcher.py:8: ParserWarning: Falling back to the 'python' engine because the 'c' engine does not support regex separators (separators > 1 char and different from '\\s+' are interpreted as regex); you can avoid this warning by specifying engine='python'.\n",
            "  \n",
            "/usr/local/lib/python3.6/dist-packages/ipykernel_launcher.py:13: ParserWarning: Falling back to the 'python' engine because the 'c' engine does not support regex separators (separators > 1 char and different from '\\s+' are interpreted as regex); you can avoid this warning by specifying engine='python'.\n",
            "  del sys.path[0]\n"
          ],
          "name": "stderr"
        },
        {
          "output_type": "execute_result",
          "data": {
            "text/html": [
              "<div>\n",
              "<style scoped>\n",
              "    .dataframe tbody tr th:only-of-type {\n",
              "        vertical-align: middle;\n",
              "    }\n",
              "\n",
              "    .dataframe tbody tr th {\n",
              "        vertical-align: top;\n",
              "    }\n",
              "\n",
              "    .dataframe thead th {\n",
              "        text-align: right;\n",
              "    }\n",
              "</style>\n",
              "<table border=\"1\" class=\"dataframe\">\n",
              "  <thead>\n",
              "    <tr style=\"text-align: right;\">\n",
              "      <th></th>\n",
              "      <th>age</th>\n",
              "      <th>workclass</th>\n",
              "      <th>fnlwgt</th>\n",
              "      <th>education</th>\n",
              "      <th>education_num</th>\n",
              "      <th>marital_status</th>\n",
              "      <th>occupation</th>\n",
              "      <th>relationship</th>\n",
              "      <th>race</th>\n",
              "      <th>sex</th>\n",
              "      <th>capital_gain</th>\n",
              "      <th>capital_loss</th>\n",
              "      <th>hours_per_week</th>\n",
              "      <th>native_country</th>\n",
              "      <th>y_feature</th>\n",
              "    </tr>\n",
              "  </thead>\n",
              "  <tbody>\n",
              "    <tr>\n",
              "      <th>0</th>\n",
              "      <td>25</td>\n",
              "      <td>Private</td>\n",
              "      <td>226802</td>\n",
              "      <td>11th</td>\n",
              "      <td>7</td>\n",
              "      <td>Never-married</td>\n",
              "      <td>Machine-op-inspct</td>\n",
              "      <td>Own-child</td>\n",
              "      <td>Black</td>\n",
              "      <td>Male</td>\n",
              "      <td>0</td>\n",
              "      <td>0</td>\n",
              "      <td>40</td>\n",
              "      <td>United-States</td>\n",
              "      <td>&lt;=50K</td>\n",
              "    </tr>\n",
              "    <tr>\n",
              "      <th>1</th>\n",
              "      <td>38</td>\n",
              "      <td>Private</td>\n",
              "      <td>89814</td>\n",
              "      <td>HS-grad</td>\n",
              "      <td>9</td>\n",
              "      <td>Married-civ-spouse</td>\n",
              "      <td>Farming-fishing</td>\n",
              "      <td>Husband</td>\n",
              "      <td>White</td>\n",
              "      <td>Male</td>\n",
              "      <td>0</td>\n",
              "      <td>0</td>\n",
              "      <td>50</td>\n",
              "      <td>United-States</td>\n",
              "      <td>&lt;=50K</td>\n",
              "    </tr>\n",
              "    <tr>\n",
              "      <th>2</th>\n",
              "      <td>28</td>\n",
              "      <td>Local-gov</td>\n",
              "      <td>336951</td>\n",
              "      <td>Assoc-acdm</td>\n",
              "      <td>12</td>\n",
              "      <td>Married-civ-spouse</td>\n",
              "      <td>Protective-serv</td>\n",
              "      <td>Husband</td>\n",
              "      <td>White</td>\n",
              "      <td>Male</td>\n",
              "      <td>0</td>\n",
              "      <td>0</td>\n",
              "      <td>40</td>\n",
              "      <td>United-States</td>\n",
              "      <td>&gt;50K</td>\n",
              "    </tr>\n",
              "    <tr>\n",
              "      <th>3</th>\n",
              "      <td>44</td>\n",
              "      <td>Private</td>\n",
              "      <td>160323</td>\n",
              "      <td>Some-college</td>\n",
              "      <td>10</td>\n",
              "      <td>Married-civ-spouse</td>\n",
              "      <td>Machine-op-inspct</td>\n",
              "      <td>Husband</td>\n",
              "      <td>Black</td>\n",
              "      <td>Male</td>\n",
              "      <td>7688</td>\n",
              "      <td>0</td>\n",
              "      <td>40</td>\n",
              "      <td>United-States</td>\n",
              "      <td>&gt;50K</td>\n",
              "    </tr>\n",
              "    <tr>\n",
              "      <th>4</th>\n",
              "      <td>18</td>\n",
              "      <td>?</td>\n",
              "      <td>103497</td>\n",
              "      <td>Some-college</td>\n",
              "      <td>10</td>\n",
              "      <td>Never-married</td>\n",
              "      <td>?</td>\n",
              "      <td>Own-child</td>\n",
              "      <td>White</td>\n",
              "      <td>Female</td>\n",
              "      <td>0</td>\n",
              "      <td>0</td>\n",
              "      <td>30</td>\n",
              "      <td>United-States</td>\n",
              "      <td>&lt;=50K</td>\n",
              "    </tr>\n",
              "  </tbody>\n",
              "</table>\n",
              "</div>"
            ],
            "text/plain": [
              "   age  workclass  fnlwgt  ... hours_per_week  native_country y_feature\n",
              "0   25    Private  226802  ...             40   United-States     <=50K\n",
              "1   38    Private   89814  ...             50   United-States     <=50K\n",
              "2   28  Local-gov  336951  ...             40   United-States      >50K\n",
              "3   44    Private  160323  ...             40   United-States      >50K\n",
              "4   18          ?  103497  ...             30   United-States     <=50K\n",
              "\n",
              "[5 rows x 15 columns]"
            ]
          },
          "metadata": {
            "tags": []
          },
          "execution_count": 5
        }
      ]
    },
    {
      "cell_type": "code",
      "metadata": {
        "colab": {
          "base_uri": "https://localhost:8080/"
        },
        "id": "Y1l-Qf7tnHa-",
        "outputId": "3533129c-8137-4db1-840b-42528a4e3b96"
      },
      "source": [
        "print(\"Here have \"+str(train_data.shape[1])+\" features with \"+str(train_data.shape[0])+\" entries for train\")\r\n",
        "print(\"Here have \"+str(test_data.shape[1])+\" features with \"+str(test_data.shape[0])+\" entries for test\")"
      ],
      "execution_count": null,
      "outputs": [
        {
          "output_type": "stream",
          "text": [
            "Here have 15 features with 32560 entries for train\n",
            "Here have 15 features with 16281 entries for test\n"
          ],
          "name": "stdout"
        }
      ]
    },
    {
      "cell_type": "markdown",
      "metadata": {
        "id": "8Tv_An1knb6l"
      },
      "source": [
        "Here we can see we have 15 features with 32560 entries"
      ]
    },
    {
      "cell_type": "markdown",
      "metadata": {
        "id": "kr4O4nk1nshi"
      },
      "source": [
        "---"
      ]
    },
    {
      "cell_type": "markdown",
      "metadata": {
        "id": "7Gf95pV4RW5D"
      },
      "source": [
        "Now we have to combine both the Data Set to create a common base for preprocessing"
      ]
    },
    {
      "cell_type": "code",
      "metadata": {
        "colab": {
          "base_uri": "https://localhost:8080/"
        },
        "id": "0hCBlbocRWFi",
        "outputId": "a3998328-a739-4dba-9bd3-d6da299854a3"
      },
      "source": [
        "data = pd.concat([train_data, test_data])\r\n",
        "data.shape"
      ],
      "execution_count": null,
      "outputs": [
        {
          "output_type": "execute_result",
          "data": {
            "text/plain": [
              "(48841, 15)"
            ]
          },
          "metadata": {
            "tags": []
          },
          "execution_count": 85
        }
      ]
    },
    {
      "cell_type": "markdown",
      "metadata": {
        "id": "r7XyxbUcHMBK"
      },
      "source": [
        "Now we have total 48841 column"
      ]
    },
    {
      "cell_type": "markdown",
      "metadata": {
        "id": "E_oJsY1WHVcH"
      },
      "source": [
        "Now first convert our depend feature into binary form to be understood"
      ]
    },
    {
      "cell_type": "code",
      "metadata": {
        "id": "hTkbQLhnlDwS"
      },
      "source": [
        "data['y_feature'] = data['y_feature'].apply(lambda x: 0 if x == '<=50K' else 1).astype(int)"
      ],
      "execution_count": null,
      "outputs": []
    },
    {
      "cell_type": "code",
      "metadata": {
        "id": "uTmwbTvzpDde",
        "colab": {
          "base_uri": "https://localhost:8080/"
        },
        "outputId": "bf502f17-495f-4361-8b19-d360f0983074"
      },
      "source": [
        "data['y_feature'].value_counts()"
      ],
      "execution_count": null,
      "outputs": [
        {
          "output_type": "execute_result",
          "data": {
            "text/plain": [
              "0    37154\n",
              "1    11687\n",
              "Name: y_feature, dtype: int64"
            ]
          },
          "metadata": {
            "tags": []
          },
          "execution_count": 87
        }
      ]
    },
    {
      "cell_type": "code",
      "metadata": {
        "id": "Wo0tsHoQpF84",
        "colab": {
          "base_uri": "https://localhost:8080/",
          "height": 448
        },
        "outputId": "c5177e71-c0cf-4338-e031-9c419840ec6b"
      },
      "source": [
        "sns.countplot(x='y_feature', data=data)\r\n",
        "plt.show()"
      ],
      "execution_count": null,
      "outputs": [
        {
          "output_type": "display_data",
          "data": {
            "image/png": "[encoded data removed]",
            "text/plain": [
              "<Figure size 864x504 with 1 Axes>"
            ]
          },
          "metadata": {
            "tags": []
          }
        }
      ]
    },
    {
      "cell_type": "markdown",
      "metadata": {
        "id": "DRUQENvrHnRH"
      },
      "source": [
        "We have mismatch data set, so we have to handle that also in future"
      ]
    },
    {
      "cell_type": "code",
      "metadata": {
        "colab": {
          "base_uri": "https://localhost:8080/",
          "height": 309
        },
        "id": "NA8WhKOjTV0d",
        "outputId": "89a30c25-4471-4d90-ef0b-5526f27ee7fd"
      },
      "source": [
        "data.head()"
      ],
      "execution_count": null,
      "outputs": [
        {
          "output_type": "execute_result",
          "data": {
            "text/html": [
              "<div>\n",
              "<style scoped>\n",
              "    .dataframe tbody tr th:only-of-type {\n",
              "        vertical-align: middle;\n",
              "    }\n",
              "\n",
              "    .dataframe tbody tr th {\n",
              "        vertical-align: top;\n",
              "    }\n",
              "\n",
              "    .dataframe thead th {\n",
              "        text-align: right;\n",
              "    }\n",
              "</style>\n",
              "<table border=\"1\" class=\"dataframe\">\n",
              "  <thead>\n",
              "    <tr style=\"text-align: right;\">\n",
              "      <th></th>\n",
              "      <th>age</th>\n",
              "      <th>workclass</th>\n",
              "      <th>fnlwgt</th>\n",
              "      <th>education</th>\n",
              "      <th>education_num</th>\n",
              "      <th>marital_status</th>\n",
              "      <th>occupation</th>\n",
              "      <th>relationship</th>\n",
              "      <th>race</th>\n",
              "      <th>sex</th>\n",
              "      <th>capital_gain</th>\n",
              "      <th>capital_loss</th>\n",
              "      <th>hours_per_week</th>\n",
              "      <th>native_country</th>\n",
              "      <th>y_feature</th>\n",
              "    </tr>\n",
              "  </thead>\n",
              "  <tbody>\n",
              "    <tr>\n",
              "      <th>0</th>\n",
              "      <td>50</td>\n",
              "      <td>Self-emp-not-inc</td>\n",
              "      <td>83311</td>\n",
              "      <td>Bachelors</td>\n",
              "      <td>13</td>\n",
              "      <td>Married-civ-spouse</td>\n",
              "      <td>Exec-managerial</td>\n",
              "      <td>Husband</td>\n",
              "      <td>White</td>\n",
              "      <td>Male</td>\n",
              "      <td>0</td>\n",
              "      <td>0</td>\n",
              "      <td>13</td>\n",
              "      <td>United-States</td>\n",
              "      <td>0</td>\n",
              "    </tr>\n",
              "    <tr>\n",
              "      <th>1</th>\n",
              "      <td>38</td>\n",
              "      <td>Private</td>\n",
              "      <td>215646</td>\n",
              "      <td>HS-grad</td>\n",
              "      <td>9</td>\n",
              "      <td>Divorced</td>\n",
              "      <td>Handlers-cleaners</td>\n",
              "      <td>Not-in-family</td>\n",
              "      <td>White</td>\n",
              "      <td>Male</td>\n",
              "      <td>0</td>\n",
              "      <td>0</td>\n",
              "      <td>40</td>\n",
              "      <td>United-States</td>\n",
              "      <td>0</td>\n",
              "    </tr>\n",
              "    <tr>\n",
              "      <th>2</th>\n",
              "      <td>53</td>\n",
              "      <td>Private</td>\n",
              "      <td>234721</td>\n",
              "      <td>11th</td>\n",
              "      <td>7</td>\n",
              "      <td>Married-civ-spouse</td>\n",
              "      <td>Handlers-cleaners</td>\n",
              "      <td>Husband</td>\n",
              "      <td>Black</td>\n",
              "      <td>Male</td>\n",
              "      <td>0</td>\n",
              "      <td>0</td>\n",
              "      <td>40</td>\n",
              "      <td>United-States</td>\n",
              "      <td>0</td>\n",
              "    </tr>\n",
              "    <tr>\n",
              "      <th>3</th>\n",
              "      <td>28</td>\n",
              "      <td>Private</td>\n",
              "      <td>338409</td>\n",
              "      <td>Bachelors</td>\n",
              "      <td>13</td>\n",
              "      <td>Married-civ-spouse</td>\n",
              "      <td>Prof-specialty</td>\n",
              "      <td>Wife</td>\n",
              "      <td>Black</td>\n",
              "      <td>Female</td>\n",
              "      <td>0</td>\n",
              "      <td>0</td>\n",
              "      <td>40</td>\n",
              "      <td>Cuba</td>\n",
              "      <td>0</td>\n",
              "    </tr>\n",
              "    <tr>\n",
              "      <th>4</th>\n",
              "      <td>37</td>\n",
              "      <td>Private</td>\n",
              "      <td>284582</td>\n",
              "      <td>Masters</td>\n",
              "      <td>14</td>\n",
              "      <td>Married-civ-spouse</td>\n",
              "      <td>Exec-managerial</td>\n",
              "      <td>Wife</td>\n",
              "      <td>White</td>\n",
              "      <td>Female</td>\n",
              "      <td>0</td>\n",
              "      <td>0</td>\n",
              "      <td>40</td>\n",
              "      <td>United-States</td>\n",
              "      <td>0</td>\n",
              "    </tr>\n",
              "  </tbody>\n",
              "</table>\n",
              "</div>"
            ],
            "text/plain": [
              "   age         workclass  fnlwgt  ... hours_per_week  native_country y_feature\n",
              "0   50  Self-emp-not-inc   83311  ...             13   United-States         0\n",
              "1   38           Private  215646  ...             40   United-States         0\n",
              "2   53           Private  234721  ...             40   United-States         0\n",
              "3   28           Private  338409  ...             40            Cuba         0\n",
              "4   37           Private  284582  ...             40   United-States         0\n",
              "\n",
              "[5 rows x 15 columns]"
            ]
          },
          "metadata": {
            "tags": []
          },
          "execution_count": 89
        }
      ]
    },
    {
      "cell_type": "markdown",
      "metadata": {
        "id": "E2c8L3JSS2v1"
      },
      "source": [
        "So now we have 48841 numbers of entries in 15 features"
      ]
    },
    {
      "cell_type": "markdown",
      "metadata": {
        "id": "y8DuZoxwTDsm"
      },
      "source": [
        "---"
      ]
    },
    {
      "cell_type": "markdown",
      "metadata": {
        "id": "zN9R2tg6TGyB"
      },
      "source": [
        "Now, lets try to understand our data set"
      ]
    },
    {
      "cell_type": "code",
      "metadata": {
        "colab": {
          "base_uri": "https://localhost:8080/"
        },
        "id": "taVkMfWnk4oB",
        "outputId": "f4386e6b-0d0a-44f5-d01a-a6c9ce31eab9"
      },
      "source": [
        "data.info()"
      ],
      "execution_count": null,
      "outputs": [
        {
          "output_type": "stream",
          "text": [
            "<class 'pandas.core.frame.DataFrame'>\n",
            "Int64Index: 48841 entries, 0 to 16280\n",
            "Data columns (total 15 columns):\n",
            " #   Column          Non-Null Count  Dtype \n",
            "---  ------          --------------  ----- \n",
            " 0   age             48841 non-null  int64 \n",
            " 1   workclass       48841 non-null  object\n",
            " 2   fnlwgt          48841 non-null  int64 \n",
            " 3   education       48841 non-null  object\n",
            " 4   education_num   48841 non-null  int64 \n",
            " 5   marital_status  48841 non-null  object\n",
            " 6   occupation      48841 non-null  object\n",
            " 7   relationship    48841 non-null  object\n",
            " 8   race            48841 non-null  object\n",
            " 9   sex             48841 non-null  object\n",
            " 10  capital_gain    48841 non-null  int64 \n",
            " 11  capital_loss    48841 non-null  int64 \n",
            " 12  hours_per_week  48841 non-null  int64 \n",
            " 13  native_country  48841 non-null  object\n",
            " 14  y_feature       48841 non-null  int64 \n",
            "dtypes: int64(7), object(8)\n",
            "memory usage: 7.2+ MB\n"
          ],
          "name": "stdout"
        }
      ]
    },
    {
      "cell_type": "markdown",
      "metadata": {
        "id": "kHUXb6c0XQjv"
      },
      "source": [
        "From this information we can say that we have 9 categorical feature and 2 contineous feature, later we have to preprocess it"
      ]
    },
    {
      "cell_type": "markdown",
      "metadata": {
        "id": "3Bs1Pq4TYAYE"
      },
      "source": [
        "---"
      ]
    },
    {
      "cell_type": "markdown",
      "metadata": {
        "id": "dU-BdYMwYL1X"
      },
      "source": [
        "Now lets check whether we have missing or null value or not"
      ]
    },
    {
      "cell_type": "code",
      "metadata": {
        "colab": {
          "base_uri": "https://localhost:8080/"
        },
        "id": "Ii2803KFnNjl",
        "outputId": "caca7eb0-032a-4bb0-a892-cada4b52e93e"
      },
      "source": [
        "data.isnull().sum()"
      ],
      "execution_count": null,
      "outputs": [
        {
          "output_type": "execute_result",
          "data": {
            "text/plain": [
              "age               0\n",
              "workclass         0\n",
              "fnlwgt            0\n",
              "education         0\n",
              "education_num     0\n",
              "marital_status    0\n",
              "occupation        0\n",
              "relationship      0\n",
              "race              0\n",
              "sex               0\n",
              "capital_gain      0\n",
              "capital_loss      0\n",
              "hours_per_week    0\n",
              "native_country    0\n",
              "y_feature         0\n",
              "dtype: int64"
            ]
          },
          "metadata": {
            "tags": []
          },
          "execution_count": 91
        }
      ]
    },
    {
      "cell_type": "markdown",
      "metadata": {
        "id": "QH-ZDl5PYX1c"
      },
      "source": [
        "From the above code we can understand that it does not have any null or missing values, That's good.<br>\r\n",
        "\r\n",
        "**But But But...** by looking carefully to out data set we can see that the missing value are mention as **\"?\"** at many place, not as **NULL** or **None** value.<br>\r\n",
        "\r\n",
        "For eg.\r\n",
        "\r\n"
      ]
    },
    {
      "cell_type": "code",
      "metadata": {
        "colab": {
          "base_uri": "https://localhost:8080/",
          "height": 69
        },
        "id": "MLalWfyOPy5L",
        "outputId": "4da48db9-81f0-4995-9c47-a0f68f1bfc8a"
      },
      "source": [
        "data[data['occupation'].isnull()].head()"
      ],
      "execution_count": null,
      "outputs": [
        {
          "output_type": "execute_result",
          "data": {
            "text/html": [
              "<div>\n",
              "<style scoped>\n",
              "    .dataframe tbody tr th:only-of-type {\n",
              "        vertical-align: middle;\n",
              "    }\n",
              "\n",
              "    .dataframe tbody tr th {\n",
              "        vertical-align: top;\n",
              "    }\n",
              "\n",
              "    .dataframe thead th {\n",
              "        text-align: right;\n",
              "    }\n",
              "</style>\n",
              "<table border=\"1\" class=\"dataframe\">\n",
              "  <thead>\n",
              "    <tr style=\"text-align: right;\">\n",
              "      <th></th>\n",
              "      <th>age</th>\n",
              "      <th>workclass</th>\n",
              "      <th>fnlwgt</th>\n",
              "      <th>education</th>\n",
              "      <th>education_num</th>\n",
              "      <th>marital_status</th>\n",
              "      <th>occupation</th>\n",
              "      <th>relationship</th>\n",
              "      <th>race</th>\n",
              "      <th>sex</th>\n",
              "      <th>capital_gain</th>\n",
              "      <th>capital_loss</th>\n",
              "      <th>hours_per_week</th>\n",
              "      <th>native_country</th>\n",
              "      <th>y_feature</th>\n",
              "    </tr>\n",
              "  </thead>\n",
              "  <tbody>\n",
              "  </tbody>\n",
              "</table>\n",
              "</div>"
            ],
            "text/plain": [
              "Empty DataFrame\n",
              "Columns: [age, workclass, fnlwgt, education, education_num, marital_status, occupation, relationship, race, sex, capital_gain, capital_loss, hours_per_week, native_country, y_feature]\n",
              "Index: []"
            ]
          },
          "metadata": {
            "tags": []
          },
          "execution_count": 92
        }
      ]
    },
    {
      "cell_type": "markdown",
      "metadata": {
        "id": "BdIUq4KRaMER"
      },
      "source": [
        "So we have to manually handle our missing values"
      ]
    },
    {
      "cell_type": "markdown",
      "metadata": {
        "id": "CP3Su8YMIV5t"
      },
      "source": [
        "So, for ease, first replace the **?** to NAN value so that we can easly find out our missing value"
      ]
    },
    {
      "cell_type": "code",
      "metadata": {
        "id": "iYzekbx8vKFV"
      },
      "source": [
        "data = data.replace('?', np.NaN)"
      ],
      "execution_count": null,
      "outputs": []
    },
    {
      "cell_type": "markdown",
      "metadata": {
        "id": "LocM4xMOvsJH"
      },
      "source": [
        "So now we have converted all **?** to **NAN** not a number, now we can find our total missing value by following code"
      ]
    },
    {
      "cell_type": "code",
      "metadata": {
        "colab": {
          "base_uri": "https://localhost:8080/"
        },
        "id": "4hczS8TPv6TE",
        "outputId": "b20b0c0a-ebe5-4d04-88f2-e73265b95339"
      },
      "source": [
        "data.isnull().sum()"
      ],
      "execution_count": null,
      "outputs": [
        {
          "output_type": "execute_result",
          "data": {
            "text/plain": [
              "age                  0\n",
              "workclass         2799\n",
              "fnlwgt               0\n",
              "education            0\n",
              "education_num        0\n",
              "marital_status       0\n",
              "occupation        2809\n",
              "relationship         0\n",
              "race                 0\n",
              "sex                  0\n",
              "capital_gain         0\n",
              "capital_loss         0\n",
              "hours_per_week       0\n",
              "native_country     857\n",
              "y_feature            0\n",
              "dtype: int64"
            ]
          },
          "metadata": {
            "tags": []
          },
          "execution_count": 94
        }
      ]
    },
    {
      "cell_type": "markdown",
      "metadata": {
        "id": "tq_GT4KiwZ1f"
      },
      "source": [
        "Now we can see total numbers of missing values per feature"
      ]
    },
    {
      "cell_type": "markdown",
      "metadata": {
        "id": "ThjfqJSkwhY3"
      },
      "source": [
        "---"
      ]
    },
    {
      "cell_type": "markdown",
      "metadata": {
        "id": "J1iwBZ8DwogI"
      },
      "source": [
        "<h1>Visualization</h1>\r\n",
        "Let understand our data"
      ]
    },
    {
      "cell_type": "code",
      "metadata": {
        "colab": {
          "base_uri": "https://localhost:8080/"
        },
        "id": "YuuP1XAhZv_V",
        "outputId": "00e5a3e2-850d-427d-a190-53bc8e84657a"
      },
      "source": [
        "data.age.unique()"
      ],
      "execution_count": null,
      "outputs": [
        {
          "output_type": "execute_result",
          "data": {
            "text/plain": [
              "array([50, 38, 53, 28, 37, 49, 52, 31, 42, 30, 23, 32, 40, 34, 25, 43, 54,\n",
              "       35, 59, 56, 19, 39, 20, 45, 22, 48, 21, 24, 57, 44, 41, 29, 18, 47,\n",
              "       46, 36, 79, 27, 67, 33, 76, 17, 55, 61, 70, 64, 71, 68, 66, 51, 58,\n",
              "       26, 60, 90, 75, 65, 77, 62, 63, 80, 72, 74, 69, 73, 81, 78, 88, 82,\n",
              "       83, 84, 85, 86, 87, 89])"
            ]
          },
          "metadata": {
            "tags": []
          },
          "execution_count": 95
        }
      ]
    },
    {
      "cell_type": "code",
      "metadata": {
        "colab": {
          "base_uri": "https://localhost:8080/",
          "height": 464
        },
        "id": "_zTakM3faqIP",
        "outputId": "b0eeebe0-c884-471d-a58f-d0bb2dde8bfc"
      },
      "source": [
        "fig, ax = plt.subplots(figsize =(10, 7)) \r\n",
        "ax.hist(data.age, bins=50, color='g')\r\n",
        "\r\n",
        "plt.xlabel(\"Age\") \r\n",
        "plt.ylabel(\"Density\") \r\n",
        "plt.title('Age density histogram')\r\n",
        "  \r\n",
        "# Show plot \r\n",
        "plt.show() "
      ],
      "execution_count": null,
      "outputs": [
        {
          "output_type": "display_data",
          "data": {
            "image/png": "[encoded data removed]",
            "text/plain": [
              "<Figure size 720x504 with 1 Axes>"
            ]
          },
          "metadata": {
            "tags": []
          }
        }
      ]
    },
    {
      "cell_type": "markdown",
      "metadata": {
        "id": "Q0T89JXGib1Y"
      },
      "source": [
        "Most of the employee are between 20 to 45. And also their are people who are senior citizen above 70-75 of age, who are still working"
      ]
    },
    {
      "cell_type": "code",
      "metadata": {
        "id": "s2qn8O4lYet9",
        "colab": {
          "base_uri": "https://localhost:8080/",
          "height": 468
        },
        "outputId": "1665e6d7-4f35-4c02-f4b5-c0d75e6b9678"
      },
      "source": [
        "sns.barplot(x=\"age\",y=\"y_feature\", data=data, ci=None)\r\n",
        "# set_xticklabels(labels = g.get_xticklabels(), rotation=90)\r\n",
        "plt.xticks(rotation=90)\r\n",
        "plt.xlabel(\"Age\") \r\n",
        "plt.ylabel(\"Income\") \r\n",
        "plt.title('Income of age group')\r\n",
        "plt.show()"
      ],
      "execution_count": null,
      "outputs": [
        {
          "output_type": "display_data",
          "data": {
            "image/png": "[encoded data removed]",
            "text/plain": [
              "<Figure size 864x504 with 1 Axes>"
            ]
          },
          "metadata": {
            "tags": []
          }
        }
      ]
    },
    {
      "cell_type": "markdown",
      "metadata": {
        "id": "5vVju4B0Y_we"
      },
      "source": [
        "35 - 65 age group earns much more than the freshers or aged people"
      ]
    },
    {
      "cell_type": "markdown",
      "metadata": {
        "id": "Ai6fyH48itWN"
      },
      "source": [
        "---"
      ]
    },
    {
      "cell_type": "code",
      "metadata": {
        "colab": {
          "base_uri": "https://localhost:8080/"
        },
        "id": "ybRI6gub5jKn",
        "outputId": "bec32658-6a74-456b-a09b-89b72d532e56"
      },
      "source": [
        "data.workclass.isnull().sum()"
      ],
      "execution_count": null,
      "outputs": [
        {
          "output_type": "execute_result",
          "data": {
            "text/plain": [
              "2799"
            ]
          },
          "metadata": {
            "tags": []
          },
          "execution_count": 98
        }
      ]
    },
    {
      "cell_type": "markdown",
      "metadata": {
        "id": "p8k8Kam6LFHr"
      },
      "source": [
        "So here we have some missing values, which we have to take care"
      ]
    },
    {
      "cell_type": "code",
      "metadata": {
        "colab": {
          "base_uri": "https://localhost:8080/"
        },
        "id": "o1omLo1Ww8-4",
        "outputId": "aeb6fe54-bd2d-4c95-ee2f-41ef5cadca46"
      },
      "source": [
        "data.workclass.value_counts()"
      ],
      "execution_count": null,
      "outputs": [
        {
          "output_type": "execute_result",
          "data": {
            "text/plain": [
              "Private             33906\n",
              "Self-emp-not-inc     3862\n",
              "Local-gov            3136\n",
              "State-gov            1980\n",
              "Self-emp-inc         1695\n",
              "Federal-gov          1432\n",
              "Without-pay            21\n",
              "Never-worked           10\n",
              "Name: workclass, dtype: int64"
            ]
          },
          "metadata": {
            "tags": []
          },
          "execution_count": 99
        }
      ]
    },
    {
      "cell_type": "markdown",
      "metadata": {
        "id": "pF3LersI__DB"
      },
      "source": [
        "From above we can understand that their is much more values difference in this feature, we will have to take care for this"
      ]
    },
    {
      "cell_type": "markdown",
      "metadata": {
        "id": "Q1h2r1D-kDW4"
      },
      "source": [
        "Here we also have missing values"
      ]
    },
    {
      "cell_type": "code",
      "metadata": {
        "colab": {
          "base_uri": "https://localhost:8080/"
        },
        "id": "mSagySWtj9ou",
        "outputId": "8d749590-cd9d-469a-92cc-1de67294aacf"
      },
      "source": [
        "print(\"Out of \"+str(data.workclass.shape[0])+\" entries \"+str(data.workclass.isnull().sum())+\" missing values in WorkClass Feature\")"
      ],
      "execution_count": null,
      "outputs": [
        {
          "output_type": "stream",
          "text": [
            "Out of 48841 entries 2799 missing values in WorkClass Feature\n"
          ],
          "name": "stdout"
        }
      ]
    },
    {
      "cell_type": "markdown",
      "metadata": {
        "id": "fz2mIDRDlY0B"
      },
      "source": [
        "We have 2799 missing values which is approx 6% of total values, we will not emit this rows either we replace this NAN.<br>\r\n",
        "\r\n",
        "To handle categorical missing values the best way is to replace it with mode of other values. In this case it is \"Private\""
      ]
    },
    {
      "cell_type": "code",
      "metadata": {
        "colab": {
          "base_uri": "https://localhost:8080/"
        },
        "id": "D5bQan0duMix",
        "outputId": "80e031d8-ab5f-4ca0-b6d9-578639fe58cb"
      },
      "source": [
        "data.workclass = data.workclass.fillna(data.workclass.mode()[0])\r\n",
        "data.workclass.isnull().sum()"
      ],
      "execution_count": null,
      "outputs": [
        {
          "output_type": "execute_result",
          "data": {
            "text/plain": [
              "0"
            ]
          },
          "metadata": {
            "tags": []
          },
          "execution_count": 101
        }
      ]
    },
    {
      "cell_type": "markdown",
      "metadata": {
        "id": "FIFcXfA-Z_kN"
      },
      "source": [
        "Now same as above we can relace every NAN to mode of each feature."
      ]
    },
    {
      "cell_type": "code",
      "metadata": {
        "colab": {
          "base_uri": "https://localhost:8080/"
        },
        "id": "5PO9yztxULk0",
        "outputId": "ae328e20-d574-4ccf-8768-329dbeadfbdb"
      },
      "source": [
        "data.occupation = data.occupation.fillna(data.occupation.mode()[0])\r\n",
        "data.native_country = data.native_country.fillna(data.native_country.mode()[0])\r\n",
        "data.native_country.isnull().sum(),data.occupation.isnull().sum()"
      ],
      "execution_count": null,
      "outputs": [
        {
          "output_type": "execute_result",
          "data": {
            "text/plain": [
              "(0, 0)"
            ]
          },
          "metadata": {
            "tags": []
          },
          "execution_count": 124
        }
      ]
    },
    {
      "cell_type": "code",
      "metadata": {
        "id": "fEp7_JQzaS38",
        "colab": {
          "base_uri": "https://localhost:8080/"
        },
        "outputId": "91b5a978-e7a4-476d-b3ce-d6f7ad621982"
      },
      "source": [
        "data.isnull().sum()"
      ],
      "execution_count": null,
      "outputs": [
        {
          "output_type": "execute_result",
          "data": {
            "text/plain": [
              "age               0\n",
              "workclass         0\n",
              "fnlwgt            0\n",
              "education         0\n",
              "education_num     0\n",
              "marital_status    0\n",
              "occupation        0\n",
              "relationship      0\n",
              "race              0\n",
              "sex               0\n",
              "capital_gain      0\n",
              "capital_loss      0\n",
              "hours_per_week    0\n",
              "native_country    0\n",
              "y_feature         0\n",
              "dtype: int64"
            ]
          },
          "metadata": {
            "tags": []
          },
          "execution_count": 104
        }
      ]
    },
    {
      "cell_type": "markdown",
      "metadata": {
        "id": "amokxAg7acQD"
      },
      "source": [
        "Now we dont have any null values."
      ]
    },
    {
      "cell_type": "code",
      "metadata": {
        "colab": {
          "base_uri": "https://localhost:8080/",
          "height": 464
        },
        "id": "e5yNuECB5c_f",
        "outputId": "bcfc20f5-5f43-4108-d37b-e3cbca16c5df"
      },
      "source": [
        "sns.countplot(x='workclass', data=data) \r\n",
        "plt.xlabel(\"Work\") \r\n",
        "plt.ylabel(\"Density\") \r\n",
        "plt.title('Work density histogram')\r\n",
        "plt.show() "
      ],
      "execution_count": null,
      "outputs": [
        {
          "output_type": "display_data",
          "data": {
            "image/png": "[encoded data removed]",
            "text/plain": [
              "<Figure size 864x504 with 1 Axes>"
            ]
          },
          "metadata": {
            "tags": []
          }
        }
      ]
    },
    {
      "cell_type": "markdown",
      "metadata": {
        "id": "_jCj5vRzL2tu"
      },
      "source": [
        "Their are so many people who are working in a private company"
      ]
    },
    {
      "cell_type": "markdown",
      "metadata": {
        "id": "1FHA-Nrja0CI"
      },
      "source": [
        "Here you can decerease the unique categorie (for eg: merge all govt service and name as **govt**"
      ]
    },
    {
      "cell_type": "code",
      "metadata": {
        "id": "DP_DIysNbNDV"
      },
      "source": [
        "data['workclass'] = data['workclass'].apply(lambda x: 'Govt' if x in ['State-gov', 'Federal-gov', 'Local-gov'] else x)"
      ],
      "execution_count": null,
      "outputs": []
    },
    {
      "cell_type": "code",
      "metadata": {
        "id": "pXb5EyzdbnTu",
        "colab": {
          "base_uri": "https://localhost:8080/",
          "height": 464
        },
        "outputId": "ab43d213-e49c-45cd-e8d9-d4534c5ecb98"
      },
      "source": [
        "sns.countplot(x='workclass', data=data) \r\n",
        "plt.xlabel(\"Work\") \r\n",
        "plt.ylabel(\"Density\") \r\n",
        "plt.title('Work density histogram')\r\n",
        "plt.show() "
      ],
      "execution_count": null,
      "outputs": [
        {
          "output_type": "display_data",
          "data": {
            "image/png": "[encoded data removed]",
            "text/plain": [
              "<Figure size 864x504 with 1 Axes>"
            ]
          },
          "metadata": {
            "tags": []
          }
        }
      ]
    },
    {
      "cell_type": "markdown",
      "metadata": {
        "id": "2O0urlqQbuaS"
      },
      "source": [
        "Now it look less complecated"
      ]
    },
    {
      "cell_type": "code",
      "metadata": {
        "id": "608W123DcNGM",
        "colab": {
          "base_uri": "https://localhost:8080/",
          "height": 545
        },
        "outputId": "fcee1e0f-e278-45e4-a8e5-d48c84ac3090"
      },
      "source": [
        "sns.barplot(x=\"workclass\",y=\"y_feature\", data=data, ci=None)\r\n",
        "# set_xticklabels(labels = g.get_xticklabels(), rotation=90)\r\n",
        "plt.xticks(rotation=90)\r\n",
        "plt.xlabel(\"Work\") \r\n",
        "plt.ylabel(\"Income\") \r\n",
        "plt.title('Income of Work class')\r\n",
        "plt.show()"
      ],
      "execution_count": null,
      "outputs": [
        {
          "output_type": "display_data",
          "data": {
            "image/png": "[encoded data removed]",
            "text/plain": [
              "<Figure size 864x504 with 1 Axes>"
            ]
          },
          "metadata": {
            "tags": []
          }
        }
      ]
    },
    {
      "cell_type": "markdown",
      "metadata": {
        "id": "T2LdVT6KcdfK"
      },
      "source": [
        "Self employed with income i.e. business men earn more then any work class"
      ]
    },
    {
      "cell_type": "markdown",
      "metadata": {
        "id": "Z4LSwowDbyn7"
      },
      "source": [
        "---"
      ]
    },
    {
      "cell_type": "code",
      "metadata": {
        "id": "Q5t22rSfdk6T",
        "colab": {
          "base_uri": "https://localhost:8080/"
        },
        "outputId": "fc42e1a1-7548-4cd5-ffe6-1b576c8fefa5"
      },
      "source": [
        "data.sex.value_counts()"
      ],
      "execution_count": null,
      "outputs": [
        {
          "output_type": "execute_result",
          "data": {
            "text/plain": [
              "Male      32649\n",
              "Female    16192\n",
              "Name: sex, dtype: int64"
            ]
          },
          "metadata": {
            "tags": []
          },
          "execution_count": 109
        }
      ]
    },
    {
      "cell_type": "markdown",
      "metadata": {
        "id": "5KNKkvZrdssd"
      },
      "source": [
        "Here we have around 16200 female, and 32600 male. now lets visualize it"
      ]
    },
    {
      "cell_type": "code",
      "metadata": {
        "id": "4e1Rg8oYdNWn",
        "colab": {
          "base_uri": "https://localhost:8080/",
          "height": 464
        },
        "outputId": "56404aac-7825-4564-ef54-1618feeb24dc"
      },
      "source": [
        "sns.countplot(x='sex', data=data) \r\n",
        "plt.xlabel(\"Gender\") \r\n",
        "plt.ylabel(\"Density\") \r\n",
        "plt.title('Gender density histogram')\r\n",
        "plt.show() "
      ],
      "execution_count": null,
      "outputs": [
        {
          "output_type": "display_data",
          "data": {
            "image/png": "[encoded data removed]",
            "text/plain": [
              "<Figure size 864x504 with 1 Axes>"
            ]
          },
          "metadata": {
            "tags": []
          }
        }
      ]
    },
    {
      "cell_type": "markdown",
      "metadata": {
        "id": "rgLfVfS0eEMt"
      },
      "source": [
        "---"
      ]
    },
    {
      "cell_type": "markdown",
      "metadata": {
        "id": "g2iHdOGib2YV"
      },
      "source": [
        "Now we have education feature, lets look through this"
      ]
    },
    {
      "cell_type": "code",
      "metadata": {
        "colab": {
          "base_uri": "https://localhost:8080/"
        },
        "id": "Exzf0NEbCaD4",
        "outputId": "b9bac2ef-929d-462a-f53f-80a885c070d7"
      },
      "source": [
        "data.education.unique()"
      ],
      "execution_count": null,
      "outputs": [
        {
          "output_type": "execute_result",
          "data": {
            "text/plain": [
              "array(['Bachelors', 'HS-grad', '11th', 'Masters', '9th', 'Some-college',\n",
              "       'Assoc-acdm', 'Assoc-voc', '7th-8th', 'Doctorate', 'Prof-school',\n",
              "       '5th-6th', '10th', '1st-4th', 'Preschool', '12th'], dtype=object)"
            ]
          },
          "metadata": {
            "tags": []
          },
          "execution_count": 111
        }
      ]
    },
    {
      "cell_type": "markdown",
      "metadata": {
        "id": "7uuelFQsMeQz"
      },
      "source": [
        "Here we have some unique value of different categories of a person's education, Which is between pre school to college degree."
      ]
    },
    {
      "cell_type": "code",
      "metadata": {
        "id": "ruEOFV1AajyW",
        "colab": {
          "base_uri": "https://localhost:8080/",
          "height": 529
        },
        "outputId": "4f143037-d94e-433d-b9e7-774755118ecc"
      },
      "source": [
        "sns.barplot(x=\"education\",y=\"y_feature\", hue='sex', data=data, ci=None)\r\n",
        "# set_xticklabels(labels = g.get_xticklabels(), rotation=90)\r\n",
        "plt.xticks(rotation=90)\r\n",
        "plt.xlabel(\"Education\") \r\n",
        "plt.ylabel(\"Income\") \r\n",
        "plt.title('Income of respective education field of male and female')\r\n",
        "plt.show()"
      ],
      "execution_count": null,
      "outputs": [
        {
          "output_type": "display_data",
          "data": {
            "image/png": "[encoded data removed]",
            "text/plain": [
              "<Figure size 864x504 with 1 Axes>"
            ]
          },
          "metadata": {
            "tags": []
          }
        }
      ]
    },
    {
      "cell_type": "markdown",
      "metadata": {
        "id": "kkNlcRfSdJXq"
      },
      "source": [
        "Here we can see that person with Bachelors, Masters, Doctorate, and prof in school earn more money then who are yet have to clear Higher Secondary school.<br>\r\n",
        "Also for every degree due to count of male is more we see males have bigger bar then female."
      ]
    },
    {
      "cell_type": "code",
      "metadata": {
        "id": "6PAUG2qPNZO8",
        "colab": {
          "base_uri": "https://localhost:8080/",
          "height": 464
        },
        "outputId": "d5530b60-e6ec-436f-8ec7-7c4b14966ac0"
      },
      "source": [
        "sns.countplot(x=\"sex\", hue='education', data=data, )\r\n",
        "plt.xlabel(\"Gender\") \r\n",
        "plt.ylabel(\"Count\") \r\n",
        "plt.title('Education of male and female')\r\n",
        "plt.show()"
      ],
      "execution_count": null,
      "outputs": [
        {
          "output_type": "display_data",
          "data": {
            "image/png": "[encoded data removed]",
            "text/plain": [
              "<Figure size 864x504 with 1 Axes>"
            ]
          },
          "metadata": {
            "tags": []
          }
        }
      ]
    },
    {
      "cell_type": "markdown",
      "metadata": {
        "id": "TUcnwn68PqID"
      },
      "source": [
        "Here we can understand their are more male then female who have higher education qualification, This is also because of total number of male is higher than female"
      ]
    },
    {
      "cell_type": "markdown",
      "metadata": {
        "id": "yCyPBFisQOK7"
      },
      "source": [
        "Here we have so many categories to see, lets summarize this categories to get more understanding.<br>\r\n",
        "we can combine all the level of school from pre school to 12 to a single category which is school."
      ]
    },
    {
      "cell_type": "code",
      "metadata": {
        "id": "JYmokLXnNZME"
      },
      "source": [
        "data['education'] = data['education'].apply(lambda x: 'School' if x in ['10th', '11th', '12th', '1st-4th', '5th-6th', '7th-8th', '9th', 'Preschool', 'HS-grad'] else x)\r\n",
        "data['education'] = data['education'].apply(lambda x: 'Assoc' if x in ['Assoc-voc', 'Assoc-acdm', 'Some-college'] else x)"
      ],
      "execution_count": null,
      "outputs": []
    },
    {
      "cell_type": "markdown",
      "metadata": {
        "id": "GVdaiYVUQd7o"
      },
      "source": [
        "Now, we have only 6 categories than 16 categories which is more likely to understand"
      ]
    },
    {
      "cell_type": "code",
      "metadata": {
        "id": "AWoOqMiqNZIv",
        "colab": {
          "base_uri": "https://localhost:8080/",
          "height": 464
        },
        "outputId": "2d63a972-3096-4e9f-8e7f-bd54225d8e36"
      },
      "source": [
        "sns.countplot(x=\"sex\", hue='education', data=data, )\r\n",
        "plt.xlabel(\"Gender\") \r\n",
        "plt.ylabel(\"Count\") \r\n",
        "plt.title('Count of education of male and female')\r\n",
        "plt.show()"
      ],
      "execution_count": null,
      "outputs": [
        {
          "output_type": "display_data",
          "data": {
            "image/png": "[encoded data removed]",
            "text/plain": [
              "<Figure size 864x504 with 1 Axes>"
            ]
          },
          "metadata": {
            "tags": []
          }
        }
      ]
    },
    {
      "cell_type": "code",
      "metadata": {
        "id": "eRzVLQZVknBU",
        "colab": {
          "base_uri": "https://localhost:8080/",
          "height": 514
        },
        "outputId": "0fd62e6d-b885-49fe-8581-a4263a1794b9"
      },
      "source": [
        "sns.barplot(x=\"education\",y=\"y_feature\", hue='sex', data=data)\r\n",
        "plt.xlabel(\"Education\") \r\n",
        "plt.ylabel(\"Income\") \r\n",
        "plt.title('Income of male and female education wise')\r\n",
        "plt.xticks(rotation=90)\r\n",
        "plt.show()"
      ],
      "execution_count": null,
      "outputs": [
        {
          "output_type": "display_data",
          "data": {
            "image/png": "[encoded data removed]",
            "text/plain": [
              "<Figure size 864x504 with 1 Axes>"
            ]
          },
          "metadata": {
            "tags": []
          }
        }
      ]
    },
    {
      "cell_type": "markdown",
      "metadata": {
        "id": "-BPfZ7q_RFCg"
      },
      "source": [
        "---"
      ]
    },
    {
      "cell_type": "markdown",
      "metadata": {
        "id": "bjFbfKpRfffw"
      },
      "source": [
        "Lets visuallize **marital_status** feature"
      ]
    },
    {
      "cell_type": "code",
      "metadata": {
        "id": "TOkklMlvfn0s",
        "colab": {
          "base_uri": "https://localhost:8080/"
        },
        "outputId": "a873578b-474b-45c1-eb11-c7ea19a77b68"
      },
      "source": [
        "data.marital_status.unique()"
      ],
      "execution_count": null,
      "outputs": [
        {
          "output_type": "execute_result",
          "data": {
            "text/plain": [
              "array(['Married-civ-spouse', 'Divorced', 'Married-spouse-absent',\n",
              "       'Never-married', 'Separated', 'Married-AF-spouse', 'Widowed'],\n",
              "      dtype=object)"
            ]
          },
          "metadata": {
            "tags": []
          },
          "execution_count": 117
        }
      ]
    },
    {
      "cell_type": "code",
      "metadata": {
        "id": "cnXmMXAVRPCj",
        "colab": {
          "base_uri": "https://localhost:8080/",
          "height": 581
        },
        "outputId": "358f95c4-c39e-46cf-9bb8-54dd1e48ab83"
      },
      "source": [
        "sns.countplot(x=\"marital_status\", data=data )\r\n",
        "plt.xticks(rotation=90)\r\n",
        "plt.xlabel(\"marital_status\") \r\n",
        "plt.ylabel(\"Count\") \r\n",
        "plt.title('marital status of male and female')\r\n",
        "plt.show()"
      ],
      "execution_count": null,
      "outputs": [
        {
          "output_type": "display_data",
          "data": {
            "image/png": "[encoded data removed]",
            "text/plain": [
              "<Figure size 864x504 with 1 Axes>"
            ]
          },
          "metadata": {
            "tags": []
          }
        }
      ]
    },
    {
      "cell_type": "markdown",
      "metadata": {
        "id": "mrAXxOFDgOwr"
      },
      "source": [
        "As we know we have people from 17 age group to 90 age group, their may be possibility of a person to be married and having spose, and still the number of single is second highest."
      ]
    },
    {
      "cell_type": "code",
      "metadata": {
        "colab": {
          "base_uri": "https://localhost:8080/",
          "height": 581
        },
        "id": "2xmCTXmWfT49",
        "outputId": "545dff60-7c75-4464-a76c-aa310fc670d4"
      },
      "source": [
        "sns.barplot(x=\"marital_status\",y=\"y_feature\", hue='sex', data=data, ci=None)\r\n",
        "# set_xticklabels(labels = g.get_xticklabels(), rotation=90)\r\n",
        "plt.xticks(rotation=90)\r\n",
        "plt.xlabel(\"marital_status\") \r\n",
        "plt.ylabel(\"Income\") \r\n",
        "plt.title('marital status of male and female')\r\n",
        "plt.show()"
      ],
      "execution_count": null,
      "outputs": [
        {
          "output_type": "display_data",
          "data": {
            "image/png": "[encoded data removed]",
            "text/plain": [
              "<Figure size 864x504 with 1 Axes>"
            ]
          },
          "metadata": {
            "tags": []
          }
        }
      ]
    },
    {
      "cell_type": "markdown",
      "metadata": {
        "id": "dL2c9OQdhrR_"
      },
      "source": [
        "Surprisingly, married male and female tends to take more income then every other."
      ]
    },
    {
      "cell_type": "code",
      "metadata": {
        "colab": {
          "base_uri": "https://localhost:8080/",
          "height": 448
        },
        "id": "vI3T37ZzJquP",
        "outputId": "ab9518dc-d5b7-4f3e-dfb8-84fd9ca2b030"
      },
      "source": [
        "sns.barplot(x=\"sex\",y=\"y_feature\", hue='race', data=data)\r\n",
        "plt.show()"
      ],
      "execution_count": null,
      "outputs": [
        {
          "output_type": "display_data",
          "data": {
            "image/png": "[encoded data removed]",
            "text/plain": [
              "<Figure size 864x504 with 1 Axes>"
            ]
          },
          "metadata": {
            "tags": []
          }
        }
      ]
    },
    {
      "cell_type": "markdown",
      "metadata": {
        "id": "LslURzHSjK0_"
      },
      "source": [
        "Wether it is Male or female people with race of \"Asian-pac-Islander\" tends to have more income then white, black, Indian or other"
      ]
    },
    {
      "cell_type": "code",
      "metadata": {
        "colab": {
          "base_uri": "https://localhost:8080/"
        },
        "id": "BqFhGbOmLBcU",
        "outputId": "b4a5ae30-8b9f-4481-9243-7a4dfff3234e"
      },
      "source": [
        "data.native_country.unique()"
      ],
      "execution_count": null,
      "outputs": [
        {
          "output_type": "execute_result",
          "data": {
            "text/plain": [
              "array(['United-States', 'Cuba', 'Jamaica', 'India', 'Mexico', 'South',\n",
              "       'Puerto-Rico', 'Honduras', 'England', 'Canada', 'Germany', 'Iran',\n",
              "       'Philippines', 'Italy', 'Poland', 'Columbia', 'Cambodia',\n",
              "       'Thailand', 'Ecuador', 'Laos', 'Taiwan', 'Haiti', 'Portugal',\n",
              "       'Dominican-Republic', 'El-Salvador', 'France', 'Guatemala',\n",
              "       'China', 'Japan', 'Yugoslavia', 'Peru',\n",
              "       'Outlying-US(Guam-USVI-etc)', 'Scotland', 'Trinadad&Tobago',\n",
              "       'Greece', 'Nicaragua', 'Vietnam', 'Hong', 'Ireland', 'Hungary',\n",
              "       'Holand-Netherlands'], dtype=object)"
            ]
          },
          "metadata": {
            "tags": []
          },
          "execution_count": 121
        }
      ]
    },
    {
      "cell_type": "code",
      "metadata": {
        "colab": {
          "base_uri": "https://localhost:8080/"
        },
        "id": "jiehzVKnOj4c",
        "outputId": "064b0de1-f00b-4d18-8758-8140dab3d16c"
      },
      "source": [
        "data.native_country.value_counts()[:10]"
      ],
      "execution_count": null,
      "outputs": [
        {
          "output_type": "execute_result",
          "data": {
            "text/plain": [
              "United-States    44688\n",
              "Mexico             951\n",
              "Philippines        295\n",
              "Germany            206\n",
              "Puerto-Rico        184\n",
              "Canada             182\n",
              "El-Salvador        155\n",
              "India              151\n",
              "Cuba               138\n",
              "England            127\n",
              "Name: native_country, dtype: int64"
            ]
          },
          "metadata": {
            "tags": []
          },
          "execution_count": 131
        }
      ]
    },
    {
      "cell_type": "code",
      "metadata": {
        "id": "kzzLwAZylo48",
        "colab": {
          "base_uri": "https://localhost:8080/",
          "height": 612
        },
        "outputId": "0b737107-fd91-4bea-a95c-37186167bae0"
      },
      "source": [
        "sns.countplot(x=\"native_country\", data=data)\r\n",
        "plt.xticks(rotation=90)\r\n",
        "plt.xlabel(\"native_country\") \r\n",
        "plt.ylabel(\"Count\") \r\n",
        "plt.title('Number of people from country')\r\n",
        "plt.show()"
      ],
      "execution_count": null,
      "outputs": [
        {
          "output_type": "display_data",
          "data": {
            "image/png": "[encoded data removed]",
            "text/plain": [
              "<Figure size 864x504 with 1 Axes>"
            ]
          },
          "metadata": {
            "tags": []
          }
        }
      ]
    },
    {
      "cell_type": "markdown",
      "metadata": {
        "id": "bRLo80R9l6zd"
      },
      "source": [
        "Their is huge people working are from United States"
      ]
    },
    {
      "cell_type": "code",
      "metadata": {
        "colab": {
          "base_uri": "https://localhost:8080/",
          "height": 612
        },
        "id": "j3cCzW5aOrz8",
        "outputId": "8433b5f9-ca13-4181-c899-1cd9a2fcc19f"
      },
      "source": [
        "sns.barplot(x=\"native_country\", y=\"y_feature\", data=data, ci=None)\r\n",
        "plt.xticks(rotation=90)\r\n",
        "plt.xlabel(\"native_country\") \r\n",
        "plt.ylabel(\"Income\") \r\n",
        "plt.title('Income country wise')\r\n",
        "plt.show()"
      ],
      "execution_count": null,
      "outputs": [
        {
          "output_type": "display_data",
          "data": {
            "image/png": "[encoded data removed]",
            "text/plain": [
              "<Figure size 864x504 with 1 Axes>"
            ]
          },
          "metadata": {
            "tags": []
          }
        }
      ]
    },
    {
      "cell_type": "markdown",
      "metadata": {
        "id": "bAuDrp6jqGcJ"
      },
      "source": [
        "But people from France, India, Taiwan, Greece are top country who are earns more than United State"
      ]
    },
    {
      "cell_type": "code",
      "metadata": {
        "colab": {
          "base_uri": "https://localhost:8080/"
        },
        "id": "mJrkEGlDYMY1",
        "outputId": "54c961eb-adf6-4cb4-f476-a97b37fd4ceb"
      },
      "source": [
        "data.occupation.value_counts()"
      ],
      "execution_count": null,
      "outputs": [
        {
          "output_type": "execute_result",
          "data": {
            "text/plain": [
              "Prof-specialty       8981\n",
              "Craft-repair         6112\n",
              "Exec-managerial      6086\n",
              "Adm-clerical         5610\n",
              "Sales                5504\n",
              "Other-service        4923\n",
              "Machine-op-inspct    3022\n",
              "Transport-moving     2355\n",
              "Handlers-cleaners    2072\n",
              "Farming-fishing      1490\n",
              "Tech-support         1446\n",
              "Protective-serv       983\n",
              "Priv-house-serv       242\n",
              "Armed-Forces           15\n",
              "Name: occupation, dtype: int64"
            ]
          },
          "metadata": {
            "tags": []
          },
          "execution_count": 213
        }
      ]
    },
    {
      "cell_type": "markdown",
      "metadata": {
        "id": "RzGmgYHqrFcN"
      },
      "source": [
        "Let try to understand how much person works in a week"
      ]
    },
    {
      "cell_type": "code",
      "metadata": {
        "id": "WgoHQo1vviOd",
        "colab": {
          "base_uri": "https://localhost:8080/"
        },
        "outputId": "398f8955-88c9-490a-d8d6-e8153b17ae7f"
      },
      "source": [
        "data.hours_per_week.unique()"
      ],
      "execution_count": null,
      "outputs": [
        {
          "output_type": "execute_result",
          "data": {
            "text/plain": [
              "array([13, 40, 16, 45, 50, 80, 30, 35, 60, 20, 52, 44, 15, 25, 38, 43, 55,\n",
              "       48, 58, 32, 70,  2, 22, 56, 41, 28, 36, 24, 46, 42, 12, 65,  1, 10,\n",
              "       34, 75, 98, 33, 54,  8,  6, 64, 19, 18, 72,  5,  9, 47, 37, 21, 26,\n",
              "       14,  4, 59,  7, 99, 53, 39, 62, 57, 78, 90, 66, 11, 49, 84,  3, 17,\n",
              "       68, 27, 85, 31, 51, 77, 63, 23, 87, 88, 73, 89, 97, 94, 29, 96, 67,\n",
              "       82, 86, 91, 81, 76, 92, 61, 74, 95, 79, 69])"
            ]
          },
          "metadata": {
            "tags": []
          },
          "execution_count": 138
        }
      ]
    },
    {
      "cell_type": "markdown",
      "metadata": {
        "id": "AN_Iv2-_vopC"
      },
      "source": [
        "There are lots of value, we will take care of it"
      ]
    },
    {
      "cell_type": "code",
      "metadata": {
        "colab": {
          "base_uri": "https://localhost:8080/",
          "height": 459
        },
        "id": "BD-cbmBHaiKB",
        "outputId": "a47bad0e-474a-4c8f-85b2-85a996c670c7"
      },
      "source": [
        "sns.histplot(x='hours_per_week', data=data, bins=20)\r\n",
        "plt.xticks(rotation=90)\r\n",
        "1plt.show()"
      ],
      "execution_count": null,
      "outputs": [
        {
          "output_type": "display_data",
          "data": {
            "image/png": "[encoded data removed]",
            "text/plain": [
              "<Figure size 864x504 with 1 Axes>"
            ]
          },
          "metadata": {
            "tags": []
          }
        }
      ]
    },
    {
      "cell_type": "markdown",
      "metadata": {
        "id": "-q-zDVB5vbii"
      },
      "source": [
        "From above graph their are more employee who work 40 hours a week1 which is common everywhere. Their are so less people who hardly work more then 30-35 hours week and here we also have some people who are really working overtime.<br>\r\n",
        "\r\n",
        "So what we can do is, lets group every working hours group to a specific group of hard worker, normal worker and less worker, so it will easyly understandable."
      ]
    },
    {
      "cell_type": "markdown",
      "metadata": {
        "id": "CPP-qx2HwLai"
      },
      "source": [
        "So here what we have done is that people working more than 60 hours, we consider them as Hard workers, people working less then 35 hours, we consider as Less workers, and rest of them are normal worker."
      ]
    },
    {
      "cell_type": "code",
      "metadata": {
        "id": "OeF0nn0F2G8G"
      },
      "source": [
        "data['hours_per_week'] = data['hours_per_week'].apply(lambda x: 'Hard_worker' if x >=60 else ('Normal_worker' if x>=35 and x<60 else 'Less_worker'))"
      ],
      "execution_count": null,
      "outputs": []
    },
    {
      "cell_type": "code",
      "metadata": {
        "id": "SGP2XvA73Kg-",
        "colab": {
          "base_uri": "https://localhost:8080/",
          "height": 449
        },
        "outputId": "1c30a8b4-c170-411a-b5a2-beed1d1234c0"
      },
      "source": [
        "sns.histplot(x='hours_per_week', data=data)\r\n",
        "plt.show()"
      ],
      "execution_count": null,
      "outputs": [
        {
          "output_type": "display_data",
          "data": {
            "image/png": "[encoded data removed]",
            "text/plain": [
              "<Figure size 864x504 with 1 Axes>"
            ]
          },
          "metadata": {
            "tags": []
          }
        }
      ]
    },
    {
      "cell_type": "markdown",
      "metadata": {
        "id": "NGYQF09zyeyS"
      },
      "source": [
        "Now it is clear more people worked as per standard timing."
      ]
    },
    {
      "cell_type": "code",
      "metadata": {
        "id": "pO9vamQi5QZt",
        "colab": {
          "base_uri": "https://localhost:8080/",
          "height": 519
        },
        "outputId": "d6f5dd27-1b03-440a-d875-0b4cd96d8d61"
      },
      "source": [
        "sns.set(rc={'figure.figsize':(12,2)})\r\n",
        "\r\n",
        "sns.histplot(x ='occupation', data=data)\r\n",
        "plt.xticks(rotation=90)\r\n",
        "plt.show()\r\n",
        "sns.barplot(x=\"occupation\",y='y_feature', data=data, ci=None)\r\n",
        "plt.xticks(rotation=90)\r\n",
        "# plt.xlabel(\"Gender\") \r\n",
        "# plt.ylabel(\"Count\") \r\n",
        "# plt.title('Count of education of male and female')\r\n",
        "plt.show()"
      ],
      "execution_count": null,
      "outputs": [
        {
          "output_type": "display_data",
          "data": {
            "image/png": "[encoded data removed]",
            "text/plain": [
              "<Figure size 864x144 with 1 Axes>"
            ]
          },
          "metadata": {
            "tags": []
          }
        },
        {
          "output_type": "display_data",
          "data": {
            "image/png": "[encoded data removed]",
            "text/plain": [
              "<Figure size 864x144 with 1 Axes>"
            ]
          },
          "metadata": {
            "tags": []
          }
        }
      ]
    },
    {
      "cell_type": "markdown",
      "metadata": {
        "id": "IOCh_DxIzEmm"
      },
      "source": [
        "From above graph we see that more people works at Prof-specility and Exec-managerial & They are also earning well<br>\r\n",
        "Also we can see their are so less people who works for armed forces enen though they are getting good amount."
      ]
    },
    {
      "cell_type": "markdown",
      "metadata": {
        "id": "ONUwYcuOz9VJ"
      },
      "source": [
        "---"
      ]
    },
    {
      "cell_type": "markdown",
      "metadata": {
        "id": "9CBtyUZ3uT2R"
      },
      "source": [
        "**Coorelation** <br>\r\n",
        "Now Lets find out corr of all numeric feature<br>\r\n",
        "\r\n",
        "Correlation compute relationship with other Series, excluding missing values.<br>\r\n",
        "It gives us understanding of two column that both are how much correlated to each other. The higher the +value is, they are more directly proportional to each other, The higher the -value is, they are more Inversly proportional to each other<br>\r\n",
        "\r\n",
        "Different Method to find corr()<br>\r\n",
        "\r\n",
        "1.   **pearson** : Standard correlation coefficient\r\n",
        "2.   **kendall** : Kendall Tau correlation coefficient\r\n",
        "3.   **spearman** : Spearman rank correlation<br>\r\n",
        "4.   **callable** : Callable with input two 1d ndarrays and returning a float."
      ]
    },
    {
      "cell_type": "code",
      "metadata": {
        "colab": {
          "base_uri": "https://localhost:8080/",
          "height": 266
        },
        "id": "5QyJAElzZGnr",
        "outputId": "fc99052d-0551-48e7-de80-28b22892320a"
      },
      "source": [
        "data.corr(method='pearson')"
      ],
      "execution_count": null,
      "outputs": [
        {
          "output_type": "execute_result",
          "data": {
            "text/html": [
              "<div>\n",
              "<style scoped>\n",
              "    .dataframe tbody tr th:only-of-type {\n",
              "        vertical-align: middle;\n",
              "    }\n",
              "\n",
              "    .dataframe tbody tr th {\n",
              "        vertical-align: top;\n",
              "    }\n",
              "\n",
              "    .dataframe thead th {\n",
              "        text-align: right;\n",
              "    }\n",
              "</style>\n",
              "<table border=\"1\" class=\"dataframe\">\n",
              "  <thead>\n",
              "    <tr style=\"text-align: right;\">\n",
              "      <th></th>\n",
              "      <th>age</th>\n",
              "      <th>fnlwgt</th>\n",
              "      <th>education_num</th>\n",
              "      <th>capital_gain</th>\n",
              "      <th>capital_loss</th>\n",
              "      <th>hours_per_week</th>\n",
              "      <th>y_feature</th>\n",
              "    </tr>\n",
              "  </thead>\n",
              "  <tbody>\n",
              "    <tr>\n",
              "      <th>age</th>\n",
              "      <td>1.000000</td>\n",
              "      <td>-0.076628</td>\n",
              "      <td>0.030940</td>\n",
              "      <td>0.077229</td>\n",
              "      <td>0.056944</td>\n",
              "      <td>0.071558</td>\n",
              "      <td>0.230371</td>\n",
              "    </tr>\n",
              "    <tr>\n",
              "      <th>fnlwgt</th>\n",
              "      <td>-0.076628</td>\n",
              "      <td>1.000000</td>\n",
              "      <td>-0.038737</td>\n",
              "      <td>-0.003703</td>\n",
              "      <td>-0.004371</td>\n",
              "      <td>-0.013520</td>\n",
              "      <td>-0.006351</td>\n",
              "    </tr>\n",
              "    <tr>\n",
              "      <th>education_num</th>\n",
              "      <td>0.030940</td>\n",
              "      <td>-0.038737</td>\n",
              "      <td>1.000000</td>\n",
              "      <td>0.125145</td>\n",
              "      <td>0.080978</td>\n",
              "      <td>0.143692</td>\n",
              "      <td>0.332632</td>\n",
              "    </tr>\n",
              "    <tr>\n",
              "      <th>capital_gain</th>\n",
              "      <td>0.077229</td>\n",
              "      <td>-0.003703</td>\n",
              "      <td>0.125145</td>\n",
              "      <td>1.000000</td>\n",
              "      <td>-0.031440</td>\n",
              "      <td>0.082157</td>\n",
              "      <td>0.223015</td>\n",
              "    </tr>\n",
              "    <tr>\n",
              "      <th>capital_loss</th>\n",
              "      <td>0.056944</td>\n",
              "      <td>-0.004371</td>\n",
              "      <td>0.080978</td>\n",
              "      <td>-0.031440</td>\n",
              "      <td>1.000000</td>\n",
              "      <td>0.054467</td>\n",
              "      <td>0.147553</td>\n",
              "    </tr>\n",
              "    <tr>\n",
              "      <th>hours_per_week</th>\n",
              "      <td>0.071558</td>\n",
              "      <td>-0.013520</td>\n",
              "      <td>0.143692</td>\n",
              "      <td>0.082157</td>\n",
              "      <td>0.054467</td>\n",
              "      <td>1.000000</td>\n",
              "      <td>0.227687</td>\n",
              "    </tr>\n",
              "    <tr>\n",
              "      <th>y_feature</th>\n",
              "      <td>0.230371</td>\n",
              "      <td>-0.006351</td>\n",
              "      <td>0.332632</td>\n",
              "      <td>0.223015</td>\n",
              "      <td>0.147553</td>\n",
              "      <td>0.227687</td>\n",
              "      <td>1.000000</td>\n",
              "    </tr>\n",
              "  </tbody>\n",
              "</table>\n",
              "</div>"
            ],
            "text/plain": [
              "                     age    fnlwgt  ...  hours_per_week  y_feature\n",
              "age             1.000000 -0.076628  ...        0.071558   0.230371\n",
              "fnlwgt         -0.076628  1.000000  ...       -0.013520  -0.006351\n",
              "education_num   0.030940 -0.038737  ...        0.143692   0.332632\n",
              "capital_gain    0.077229 -0.003703  ...        0.082157   0.223015\n",
              "capital_loss    0.056944 -0.004371  ...        0.054467   0.147553\n",
              "hours_per_week  0.071558 -0.013520  ...        1.000000   0.227687\n",
              "y_feature       0.230371 -0.006351  ...        0.227687   1.000000\n",
              "\n",
              "[7 rows x 7 columns]"
            ]
          },
          "metadata": {
            "tags": []
          },
          "execution_count": 135
        }
      ]
    },
    {
      "cell_type": "markdown",
      "metadata": {
        "id": "Fe5C_tXXrEVw"
      },
      "source": [
        "Their is no such relationship is visible between feature. But also lets try to visualize it so it can be more easy to understand"
      ]
    },
    {
      "cell_type": "code",
      "metadata": {
        "colab": {
          "base_uri": "https://localhost:8080/",
          "height": 511
        },
        "id": "yx617luDaRH7",
        "outputId": "909cb2f8-8357-4572-9662-c361ee0de16e"
      },
      "source": [
        "mask = np.triu(np.ones_like(data.corr(method='pearson'))) \r\n",
        "dataplot = sns.heatmap(data.corr(method='pearson'), annot=True, mask=mask) "
      ],
      "execution_count": null,
      "outputs": [
        {
          "output_type": "display_data",
          "data": {
            "image/png": "[encoded data removed]",
            "text/plain": [
              "<Figure size 864x504 with 2 Axes>"
            ]
          },
          "metadata": {
            "tags": []
          }
        }
      ]
    },
    {
      "cell_type": "markdown",
      "metadata": {
        "id": "Wpnbvw4jtuxX"
      },
      "source": [
        "Clearly no relationship with others"
      ]
    },
    {
      "cell_type": "markdown",
      "metadata": {
        "id": "eiO_MnIl0Ktk"
      },
      "source": [
        "---"
      ]
    },
    {
      "cell_type": "markdown",
      "metadata": {
        "id": "qdv2MkRyOIoV"
      },
      "source": [
        "<h1>Preprocessing"
      ]
    },
    {
      "cell_type": "markdown",
      "metadata": {
        "id": "vH0G9sxa1DVl"
      },
      "source": [
        "Now lets start converting our dataset in computer understabdable form"
      ]
    },
    {
      "cell_type": "code",
      "metadata": {
        "id": "F0lXuDWbTOR5",
        "colab": {
          "base_uri": "https://localhost:8080/"
        },
        "outputId": "16a277f8-d950-4566-f21c-9448bc7090dc"
      },
      "source": [
        "data.info()"
      ],
      "execution_count": null,
      "outputs": [
        {
          "output_type": "stream",
          "text": [
            "<class 'pandas.core.frame.DataFrame'>\n",
            "Int64Index: 48841 entries, 0 to 16280\n",
            "Data columns (total 15 columns):\n",
            " #   Column          Non-Null Count  Dtype \n",
            "---  ------          --------------  ----- \n",
            " 0   age             48841 non-null  int64 \n",
            " 1   workclass       48841 non-null  object\n",
            " 2   fnlwgt          48841 non-null  int64 \n",
            " 3   education       48841 non-null  object\n",
            " 4   education_num   48841 non-null  int64 \n",
            " 5   marital_status  48841 non-null  object\n",
            " 6   occupation      48841 non-null  object\n",
            " 7   relationship    48841 non-null  object\n",
            " 8   race            48841 non-null  object\n",
            " 9   sex             48841 non-null  object\n",
            " 10  capital_gain    48841 non-null  int64 \n",
            " 11  capital_loss    48841 non-null  int64 \n",
            " 12  hours_per_week  48841 non-null  object\n",
            " 13  native_country  48841 non-null  object\n",
            " 14  y_feature       48841 non-null  int64 \n",
            "dtypes: int64(6), object(9)\n",
            "memory usage: 7.2+ MB\n"
          ],
          "name": "stdout"
        }
      ]
    },
    {
      "cell_type": "markdown",
      "metadata": {
        "id": "mz9Axpvw5yKo"
      },
      "source": [
        "<h3>Label Encoder\r\n"
      ]
    },
    {
      "cell_type": "markdown",
      "metadata": {
        "id": "DThXfUOW1OEX"
      },
      "source": [
        "We have 9 categorical feature that w have to convert using Label Encoder<br>\r\n",
        "\r\n",
        "LabelEncoder encodes labels by assigning them numbers. Thus, if the feature is class with values such as ['A', 'B', \"C\", 'D'], using LabelEncoder may encode color string label as [0, 1, 2, 3]. Here is an example."
      ]
    },
    {
      "cell_type": "code",
      "metadata": {
        "id": "tZ5U9OsLM6mO"
      },
      "source": [
        "from sklearn.preprocessing import LabelEncoder\r\n",
        "le = LabelEncoder()\r\n",
        "categorical_column = ['workclass', 'education', 'marital_status', \r\n",
        "                      'occupation', 'relationship', 'race', 'sex', \r\n",
        "                      'hours_per_week', 'native_country']\r\n",
        "\r\n",
        "data[categorical_column].head()"
      ],
      "execution_count": null,
      "outputs": []
    },
    {
      "cell_type": "markdown",
      "metadata": {
        "id": "hX4uGsyw272w"
      },
      "source": [
        "Here we have selected all columns name of which data type of value is \"object\""
      ]
    },
    {
      "cell_type": "code",
      "metadata": {
        "id": "sS5hBhGWkzo2",
        "colab": {
          "base_uri": "https://localhost:8080/"
        },
        "outputId": "7d749081-6581-498e-bf28-95b149a7d190"
      },
      "source": [
        "for i in categorical_column:\r\n",
        "  data[i] = le.fit_transform(data[i])\r\n",
        "data.info()"
      ],
      "execution_count": null,
      "outputs": [
        {
          "output_type": "stream",
          "text": [
            "<class 'pandas.core.frame.DataFrame'>\n",
            "Int64Index: 48841 entries, 0 to 16280\n",
            "Data columns (total 15 columns):\n",
            " #   Column          Non-Null Count  Dtype\n",
            "---  ------          --------------  -----\n",
            " 0   age             48841 non-null  int64\n",
            " 1   workclass       48841 non-null  int64\n",
            " 2   fnlwgt          48841 non-null  int64\n",
            " 3   education       48841 non-null  int64\n",
            " 4   education_num   48841 non-null  int64\n",
            " 5   marital_status  48841 non-null  int64\n",
            " 6   occupation      48841 non-null  int64\n",
            " 7   relationship    48841 non-null  int64\n",
            " 8   race            48841 non-null  int64\n",
            " 9   sex             48841 non-null  int64\n",
            " 10  capital_gain    48841 non-null  int64\n",
            " 11  capital_loss    48841 non-null  int64\n",
            " 12  hours_per_week  48841 non-null  int64\n",
            " 13  native_country  48841 non-null  int64\n",
            " 14  y_feature       48841 non-null  int64\n",
            "dtypes: int64(15)\n",
            "memory usage: 7.2 MB\n"
          ],
          "name": "stdout"
        }
      ]
    },
    {
      "cell_type": "markdown",
      "metadata": {
        "id": "Xb_3-cGg3M5e"
      },
      "source": [
        "Above we have iterate to every column and transform every feature to label Encoder.<br>\r\n",
        "Now we can see we have no categorical feature, all are transorm to contineous.<br>\r\n",
        "For this we have to use comand like **fit_transform.**  Which fit every value and transform it to numbers."
      ]
    },
    {
      "cell_type": "markdown",
      "metadata": {
        "id": "8i2TtrBL3qZF"
      },
      "source": [
        "---"
      ]
    },
    {
      "cell_type": "markdown",
      "metadata": {
        "id": "7PhZ5F3v5pjg"
      },
      "source": [
        "<h3>Standardization"
      ]
    },
    {
      "cell_type": "markdown",
      "metadata": {
        "id": "apCtjn493suu"
      },
      "source": [
        "Now we have divided our data set to Dependent as \"y\", and independent feature as \"X\"<br>\r\n",
        "\r\n",
        "After Label Encoding, here we have applied **Standardization** using **StandardScaler.** <br>\r\n",
        "\r\n",
        "The idea behind StandardScaler is that it will transform your data such that its distribution will have a mean value 0 and standard deviation of 1.\r\n",
        "In case of multivariate data, this is done feature-wise (in other words independently for each column of the data).\r\n",
        "Given the distribution of the data, each value in the dataset will have the mean value subtracted, and then divided by the standard deviation of the whole dataset (or feature in the multivariate case)."
      ]
    },
    {
      "cell_type": "code",
      "metadata": {
        "id": "uuib1_HYg8JG"
      },
      "source": [
        "X = data.drop('y_feature', axis=1)\r\n",
        "y = data['y_feature']\r\n",
        "\r\n",
        "from sklearn.preprocessing import StandardScaler\r\n",
        "scaler = StandardScaler()\r\n",
        "X = scaler.fit_transform(X)"
      ],
      "execution_count": null,
      "outputs": []
    },
    {
      "cell_type": "markdown",
      "metadata": {
        "id": "g7KJP7fx53F5"
      },
      "source": [
        "Now split our data set to Train and test, for testing and validation of our model"
      ]
    },
    {
      "cell_type": "code",
      "metadata": {
        "id": "3jlXQTxBTHeE"
      },
      "source": [
        "from sklearn.model_selection import train_test_split\r\n",
        "X_train, X_test, y_train, y_test = train_test_split(X, y, test_size=0.33, \r\n",
        "                                                    random_state=42)"
      ],
      "execution_count": null,
      "outputs": []
    },
    {
      "cell_type": "markdown",
      "metadata": {
        "id": "5GsHbVya6Xn8"
      },
      "source": [
        "<h2>Modeling"
      ]
    },
    {
      "cell_type": "markdown",
      "metadata": {
        "id": "zESWkKDE6Qqb"
      },
      "source": [
        "Import all the Libaries for modeling"
      ]
    },
    {
      "cell_type": "code",
      "metadata": {
        "id": "mjWYKP2Iur0N"
      },
      "source": [
        "from sklearn.linear_model import LogisticRegression\r\n",
        "from sklearn.model_selection import cross_val_score\r\n",
        "from sklearn.metrics import confusion_matrix\r\n",
        "from sklearn.tree import DecisionTreeClassifier\r\n",
        "from sklearn.ensemble import RandomForestClassifier\r\n",
        "import xgboost as xgb\r\n",
        "from sklearn.neighbors import KNeighborsClassifier\r\n",
        "from sklearn.model_selection import RandomizedSearchCV\r\n",
        "from sklearn.model_selection import GridSearchCV\r\n",
        "from datetime import datetime\r\n",
        "from sklearn.metrics import accuracy_score\r\n",
        "from sklearn.metrics import precision_score, recall_score\r\n",
        "from sklearn.metrics import f1_score, roc_auc_score, roc_curve"
      ],
      "execution_count": null,
      "outputs": []
    },
    {
      "cell_type": "markdown",
      "metadata": {
        "id": "3TMFmnZj6pnd"
      },
      "source": [
        "<H4>Confusion Matrix</H4> <br>\r\n",
        "\r\n",
        "The confusion matrix provides a much more granular way to evaluate the results of a classification algorithm than just accuracy. It does this by dividing the results into two categories that join together within the matrix: the predicted labels and the actual labels of the data points. <br>\r\n",
        "\r\n",
        "Let’s describe what each element of this matrix means so that you can see why it is so useful. When we see a real example these letters (TP, FP, FN and TN) will be replaced by numbers from which we can derive various insights:\r\n",
        "\r\n",
        "TP — True Positives: <br>\r\n",
        "FP — False Positives: <br>\r\n",
        "FN — False Negatives: <br>\r\n",
        "TN — True Negatives:"
      ]
    },
    {
      "cell_type": "code",
      "metadata": {
        "id": "pZgErn1h8kRm",
        "colab": {
          "base_uri": "https://localhost:8080/",
          "height": 351
        },
        "outputId": "78dfac78-1ae5-4d73-c700-ef88e0aca350"
      },
      "source": [
        "from IPython.display import Image\r\n",
        "Image(filename='/content/1_914gv9K7LLmA6Z6IcDLMHg.png') "
      ],
      "execution_count": null,
      "outputs": [
        {
          "output_type": "execute_result",
          "data": {
            "image/png": "[encoded data removed]",
            "text/plain": [
              "<IPython.core.display.Image object>"
            ]
          },
          "metadata": {
            "tags": []
          },
          "execution_count": 182
        }
      ]
    },
    {
      "cell_type": "markdown",
      "metadata": {
        "id": "GBZyp1u2_0dg"
      },
      "source": [
        "Accuracy = Correctly predicted / Total Labels\r\n",
        "\r\n",
        "Precision = TP / TP+FP\r\n",
        "\r\n",
        "Re-Call = TP / TP+FN\r\n",
        "\r\n",
        "F1 Score = 2 (Precision * Re-Call) / Precision + Re-Call"
      ]
    },
    {
      "cell_type": "code",
      "metadata": {
        "id": "LqJDRN0-eqJ-"
      },
      "source": [
        "def generate_model_report(y_actual, y_predicted):\r\n",
        "    print(\"Accuracy = \" , accuracy_score(y_actual, y_predicted))\r\n",
        "    print(\"Precision = \" ,precision_score(y_actual, y_predicted))\r\n",
        "    print(\"Recall = \" ,recall_score(y_actual, y_predicted))\r\n",
        "    print(\"F1 Score = \" ,f1_score(y_actual, y_predicted))"
      ],
      "execution_count": null,
      "outputs": []
    },
    {
      "cell_type": "markdown",
      "metadata": {
        "id": "O53cR1TM6b8d"
      },
      "source": [
        "A user define function **generate_model_report** for showing result of a pertocular model"
      ]
    },
    {
      "cell_type": "markdown",
      "metadata": {
        "id": "jspogK2z94OG"
      },
      "source": [
        "<H2>LogisticRegression</H2> <br>\r\n",
        "\r\n",
        "Logistic regression is a classification algorithm. It is used to predict a binary outcome based on a set of independent variables.\r\n",
        "\r\n",
        "A binary outcome is one where there are only two possible scenarios True or False / 1 or 0 / etc. \r\n",
        "\r\n",
        "Independent variables are those variables or factors which may influence the Target.\r\n",
        "\r\n",
        "So: Logistic regression is the correct type of analysis to use when you’re working with binary data. You know you’re dealing with binary data when the output or dependent variable is dichotomous or categorical in nature; in other words, if it fits into one of two categories (such as “yes” or “no”, “pass” or “fail”, and so on).\r\n",
        "\r\n",
        "For out put it give probablity of the classes, for that it uses sigmoid function\r\n",
        "\r\n",
        "sigmoid finction = 1 / 1 + e^ -y\r\n",
        "\r\n",
        "where, y = mx + c"
      ]
    },
    {
      "cell_type": "code",
      "metadata": {
        "id": "cyhRmRfOurmF",
        "colab": {
          "base_uri": "https://localhost:8080/"
        },
        "outputId": "52e0e2c4-af27-4a3d-c56f-706a8d3c7520"
      },
      "source": [
        "lr = LogisticRegression()\r\n",
        "lr.fit(X_train,y_train)"
      ],
      "execution_count": null,
      "outputs": [
        {
          "output_type": "execute_result",
          "data": {
            "text/plain": [
              "LogisticRegression(C=1.0, class_weight=None, dual=False, fit_intercept=True,\n",
              "                   intercept_scaling=1, l1_ratio=None, max_iter=100,\n",
              "                   multi_class='auto', n_jobs=None, penalty='l2',\n",
              "                   random_state=None, solver='lbfgs', tol=0.0001, verbose=0,\n",
              "                   warm_start=False)"
            ]
          },
          "metadata": {
            "tags": []
          },
          "execution_count": 158
        }
      ]
    },
    {
      "cell_type": "code",
      "metadata": {
        "id": "sJg29FD30qI3",
        "colab": {
          "base_uri": "https://localhost:8080/"
        },
        "outputId": "f6276737-1f74-4947-8c17-b7f7c64981d4"
      },
      "source": [
        "score = cross_val_score(lr,X,y,cv=5)\r\n",
        "score.mean()"
      ],
      "execution_count": null,
      "outputs": [
        {
          "output_type": "execute_result",
          "data": {
            "text/plain": [
              "0.8249216902252012"
            ]
          },
          "metadata": {
            "tags": []
          },
          "execution_count": 159
        }
      ]
    },
    {
      "cell_type": "code",
      "metadata": {
        "id": "p0HjY985wSit",
        "colab": {
          "base_uri": "https://localhost:8080/"
        },
        "outputId": "3f13cbb9-d7f6-44e7-fd84-ef8ac04d4ada"
      },
      "source": [
        "y_pred = lr.predict(X_test)\r\n",
        "\r\n",
        "generate_model_report(y_test, y_pred)\r\n",
        "print()\r\n",
        "\r\n",
        "cf_matrix = confusion_matrix(y_test, y_pred)\r\n",
        "cf_matrix"
      ],
      "execution_count": null,
      "outputs": [
        {
          "output_type": "stream",
          "text": [
            "Accuracy =  0.8236753939694751\n",
            "Precision =  0.7103825136612022\n",
            "Recall =  0.43976060369502995\n",
            "F1 Score =  0.5432336869173898\n",
            "\n"
          ],
          "name": "stdout"
        },
        {
          "output_type": "execute_result",
          "data": {
            "text/plain": [
              "array([[11586,   689],\n",
              "       [ 2153,  1690]])"
            ]
          },
          "metadata": {
            "tags": []
          },
          "execution_count": 154
        }
      ]
    },
    {
      "cell_type": "markdown",
      "metadata": {
        "id": "pIDtfEmD_nn5"
      },
      "source": [
        "Here we get accuracy as 82%\r\n",
        "\r\n",
        "and F1 Score as 54%\r\n",
        "\r\n",
        "This is not so good model"
      ]
    },
    {
      "cell_type": "markdown",
      "metadata": {
        "id": "u5t9PO7tBZ-Y"
      },
      "source": [
        "---"
      ]
    },
    {
      "cell_type": "markdown",
      "metadata": {
        "id": "43U5aDc8Bbdl"
      },
      "source": [
        "<h2>DecisionTreeClassifier</h2>\r\n",
        "\r\n",
        "Decision Tree is used for Supervised learning can use for classification and regression\r\n",
        "\r\n",
        "In Decision Tree we divide feature based on the output until we get pure output\r\n",
        "\r\n",
        "For DT Classification<br>\r\n",
        "Split is done on the basis of elements of a class.\r\n",
        "\r\n",
        "**Entropy & Gini Impurity**  Technique is used to calculate purity of split OF A PERTICULAR NODE\r\n",
        "**Entropy** (0(pure) to 1(impure)) = -P(+) log2 (P+) -(P-) log 2  (P-)\r\n",
        "\r\n",
        "**Gini** (0(pure) to 0.5(impure)) =  1-( P(+)2 - P(-)2) \r\n",
        "\r\n",
        "**Information Gain** = H(S) -  Σ |Sv| H(Sv)\r\n",
        "(H(S) =entropy of root)           |S|\r\n",
        "(H(Sv) =entropy of leaf node),(|S|= Total (+) & (-))\r\n",
        "(|Sv|= (+) & (-) after split)\r\n",
        "\r\n",
        "**Advantages** <br>\r\n",
        "Advantages of Decision Tree\r\n",
        "1.\tClear Visualization: The algorithm is simple to understand, interpret and visualize as the idea is mostly used in our daily lives\r\n",
        "2.\tSimple and easy to understand (like If else)\r\n",
        "3.\tDecision Tree can handle both continuous and categorical variables.\r\n",
        "4.\tNo feature scaling required (standardization and normalization) uses rule based approach instead of distance calculation.\r\n",
        "5.\tHandles non-linear parameters efficiently: Non linear parameters don't affect the performance of a Decision Tree unlike curve based algorithms.\r\n",
        "6.\tCan automatically handle missing values.\r\n",
        "7.\tDecision Tree is usually robust to outliers and can handle them automatically.\r\n",
        "8.\tLess Training Period compare to Random Forest\r\n",
        "9.\tIt is Not sensitive to imbalance dataset because it follows its own hierarchy.\r\n",
        "\r\n",
        "**Disadvantages** <br>\r\n",
        "Disadvantages of Decision Tree\r\n",
        "1.\tOver fitting  (HyperParameter DecisionTree Prouning can use to remove this)\r\n",
        "2.\tLow bias High variance\r\n",
        "3.\tAdding a new feature can lead to re-generation\r\n",
        "4.\tNot suitable for large datasets\r\n"
      ]
    },
    {
      "cell_type": "markdown",
      "metadata": {
        "id": "RpfJAykTLFwC"
      },
      "source": [
        "<h4>class_weight</h4>\r\n",
        "Here class_weight parameter is used. It means If their is mismatch in dataset we can give more weightage to lower class feature then higher class feature. so that they can acts as equal.\r\n",
        "\r\n",
        "Apart from class weights, we can do Upsampling to lower class or we can do down sampling to higher class"
      ]
    },
    {
      "cell_type": "code",
      "metadata": {
        "id": "Ra4Y4wbkyPj0",
        "colab": {
          "base_uri": "https://localhost:8080/"
        },
        "outputId": "9de3adc4-5bcf-4d13-d58c-e8e8839e13fb"
      },
      "source": [
        "dt_cl = DecisionTreeClassifier(class_weight='balanced')\r\n",
        "dt_cl.fit(X_train,y_train)"
      ],
      "execution_count": null,
      "outputs": [
        {
          "output_type": "execute_result",
          "data": {
            "text/plain": [
              "DecisionTreeClassifier(ccp_alpha=0.0, class_weight='balanced', criterion='gini',\n",
              "                       max_depth=None, max_features=None, max_leaf_nodes=None,\n",
              "                       min_impurity_decrease=0.0, min_impurity_split=None,\n",
              "                       min_samples_leaf=1, min_samples_split=2,\n",
              "                       min_weight_fraction_leaf=0.0, presort='deprecated',\n",
              "                       random_state=None, splitter='best')"
            ]
          },
          "metadata": {
            "tags": []
          },
          "execution_count": 164
        }
      ]
    },
    {
      "cell_type": "code",
      "metadata": {
        "id": "ApoBDGwt0OJz",
        "colab": {
          "base_uri": "https://localhost:8080/"
        },
        "outputId": "5d097ba5-87af-491d-fb38-063e397bba5c"
      },
      "source": [
        "score = cross_val_score(dt_cl,X_train,y_train,cv=5)\r\n",
        "score.mean()"
      ],
      "execution_count": null,
      "outputs": [
        {
          "output_type": "execute_result",
          "data": {
            "text/plain": [
              "0.8129754791447585"
            ]
          },
          "metadata": {
            "tags": []
          },
          "execution_count": 165
        }
      ]
    },
    {
      "cell_type": "code",
      "metadata": {
        "id": "nyI84dnDyohJ",
        "colab": {
          "base_uri": "https://localhost:8080/"
        },
        "outputId": "4c2df83f-4413-49d1-aa51-52b95de2b109"
      },
      "source": [
        "dt_cl.score(X_train,y_train),dt_cl.score(X_test,y_test)"
      ],
      "execution_count": null,
      "outputs": [
        {
          "output_type": "execute_result",
          "data": {
            "text/plain": [
              "(0.9996638450019864, 0.8111428216900359)"
            ]
          },
          "metadata": {
            "tags": []
          },
          "execution_count": 166
        }
      ]
    },
    {
      "cell_type": "markdown",
      "metadata": {
        "id": "d5FQsGwXMcjn"
      },
      "source": [
        "Validation accuracy = 99%\r\n",
        "\r\n",
        "Test set accuracy = 81%"
      ]
    },
    {
      "cell_type": "code",
      "metadata": {
        "id": "-Uw4ERZOy29w",
        "colab": {
          "base_uri": "https://localhost:8080/"
        },
        "outputId": "d213d236-b2b6-4daf-813e-7055b79b2537"
      },
      "source": [
        "y_pred = dt_cl.predict(X_test)\r\n",
        "\r\n",
        "generate_model_report(y_test, y_pred)\r\n",
        "print()\r\n",
        "\r\n",
        "cf_matrix = confusion_matrix(y_test, y_pred)\r\n",
        "cf_matrix"
      ],
      "execution_count": null,
      "outputs": [
        {
          "output_type": "stream",
          "text": [
            "Accuracy =  0.8111428216900359\n",
            "Precision =  0.6044444444444445\n",
            "Recall =  0.6016133229247983\n",
            "F1 Score =  0.6030255607720396\n",
            "\n"
          ],
          "name": "stdout"
        },
        {
          "output_type": "execute_result",
          "data": {
            "text/plain": [
              "array([[10762,  1513],\n",
              "       [ 1531,  2312]])"
            ]
          },
          "metadata": {
            "tags": []
          },
          "execution_count": 167
        }
      ]
    },
    {
      "cell_type": "markdown",
      "metadata": {
        "id": "59U71PUmDY3V"
      },
      "source": [
        "Here we get accuracy as 81%\r\n",
        "\r\n",
        "and F1 Score as 60%\r\n",
        "\r\n",
        "This is not so good model but good as compare to Logistic regression.\r\n",
        "\r\n",
        "Lets try to hyper tune our model"
      ]
    },
    {
      "cell_type": "markdown",
      "metadata": {
        "id": "4Y83Cu-B01ge"
      },
      "source": [
        "<h3>HyperParameter Tuning of Decision Tree"
      ]
    },
    {
      "cell_type": "code",
      "metadata": {
        "id": "4LWvxCik1w8Y"
      },
      "source": [
        "params = {\"splitter\"                  : [\"best\",\"random\"] ,\r\n",
        "          \"max_depth\"                 : [ 3, 4, 5, 6, 8, 10, 12, 15],\r\n",
        "          \"min_samples_leaf\"          : [ 1,2,3,4,5 ],\r\n",
        "          \"min_weight_fraction_leaf\"  : [0.1,0.2,0.3,0.4],\r\n",
        "          \"max_features\"              : [\"auto\",\"log2\",\"sqrt\",None ],\r\n",
        "          \"max_leaf_nodes\"            : [None,10,20,30,40,50,60,70],\r\n",
        "          \"criterion\"                 : ['gini', 'entropy']\r\n",
        "          }\r\n",
        "\r\n",
        "dtree_cls = GridSearchCV(dt_cl,params,cv=5,\r\n",
        "                         scoring='neg_mean_squared_error',\r\n",
        "                         n_jobs=-1,verbose=3)"
      ],
      "execution_count": null,
      "outputs": []
    },
    {
      "cell_type": "code",
      "metadata": {
        "id": "q5kCZyiB3iEp",
        "colab": {
          "base_uri": "https://localhost:8080/"
        },
        "outputId": "7aa6eda2-71cd-42c7-eb39-8d9b5a2397b3"
      },
      "source": [
        "dtree_cls.fit(X_train,y_train)"
      ],
      "execution_count": null,
      "outputs": [
        {
          "output_type": "stream",
          "text": [
            "Fitting 5 folds for each of 20480 candidates, totalling 102400 fits\n"
          ],
          "name": "stdout"
        },
        {
          "output_type": "stream",
          "text": [
            "[Parallel(n_jobs=-1)]: Using backend LokyBackend with 2 concurrent workers.\n",
            "[Parallel(n_jobs=-1)]: Done  44 tasks      | elapsed:    2.2s\n",
            "[Parallel(n_jobs=-1)]: Done 812 tasks      | elapsed:   12.3s\n",
            "[Parallel(n_jobs=-1)]: Done 2092 tasks      | elapsed:   29.3s\n",
            "[Parallel(n_jobs=-1)]: Done 3884 tasks      | elapsed:   52.8s\n",
            "[Parallel(n_jobs=-1)]: Done 6188 tasks      | elapsed:  1.5min\n",
            "[Parallel(n_jobs=-1)]: Done 9004 tasks      | elapsed:  2.2min\n",
            "[Parallel(n_jobs=-1)]: Done 12332 tasks      | elapsed:  3.1min\n",
            "[Parallel(n_jobs=-1)]: Done 16172 tasks      | elapsed:  3.9min\n",
            "[Parallel(n_jobs=-1)]: Done 20524 tasks      | elapsed:  5.1min\n",
            "[Parallel(n_jobs=-1)]: Done 25388 tasks      | elapsed:  6.3min\n",
            "[Parallel(n_jobs=-1)]: Done 30764 tasks      | elapsed:  7.6min\n",
            "[Parallel(n_jobs=-1)]: Done 36652 tasks      | elapsed:  9.0min\n",
            "[Parallel(n_jobs=-1)]: Done 43052 tasks      | elapsed: 10.6min\n",
            "[Parallel(n_jobs=-1)]: Done 49964 tasks      | elapsed: 12.4min\n",
            "[Parallel(n_jobs=-1)]: Done 57388 tasks      | elapsed: 14.3min\n",
            "[Parallel(n_jobs=-1)]: Done 65324 tasks      | elapsed: 16.3min\n",
            "[Parallel(n_jobs=-1)]: Done 73772 tasks      | elapsed: 18.4min\n",
            "[Parallel(n_jobs=-1)]: Done 82732 tasks      | elapsed: 20.8min\n",
            "[Parallel(n_jobs=-1)]: Done 92204 tasks      | elapsed: 23.1min\n",
            "[Parallel(n_jobs=-1)]: Done 102188 tasks      | elapsed: 25.7min\n",
            "[Parallel(n_jobs=-1)]: Done 102400 out of 102400 | elapsed: 25.8min finished\n"
          ],
          "name": "stderr"
        },
        {
          "output_type": "execute_result",
          "data": {
            "text/plain": [
              "datetime.datetime(2021, 1, 15, 7, 20, 51, 535376)"
            ]
          },
          "metadata": {
            "tags": []
          },
          "execution_count": 170
        }
      ]
    },
    {
      "cell_type": "code",
      "metadata": {
        "id": "5Qbxf0sJ3kOx",
        "colab": {
          "base_uri": "https://localhost:8080/"
        },
        "outputId": "395ce3c4-17cb-4e42-d747-81bb56db6692"
      },
      "source": [
        "dtree_cls.best_params_"
      ],
      "execution_count": null,
      "outputs": [
        {
          "output_type": "execute_result",
          "data": {
            "text/plain": [
              "{'criterion': 'entropy',\n",
              " 'max_depth': 8,\n",
              " 'max_features': 'log2',\n",
              " 'max_leaf_nodes': 70,\n",
              " 'min_samples_leaf': 4,\n",
              " 'min_weight_fraction_leaf': 0.1,\n",
              " 'splitter': 'best'}"
            ]
          },
          "metadata": {
            "tags": []
          },
          "execution_count": 171
        }
      ]
    },
    {
      "cell_type": "markdown",
      "metadata": {
        "id": "aRxrfZ23EZMg"
      },
      "source": [
        "'''\r\n",
        "\r\n",
        "{'criterion': 'entropy',\r\n",
        " 'max_depth': 8,\r\n",
        " 'max_features': 'log2',\r\n",
        " 'max_leaf_nodes': 70,\r\n",
        " 'min_samples_leaf': 4,\r\n",
        " 'min_weight_fraction_leaf': 0.1,\r\n",
        " 'splitter': 'best'}\r\n",
        "\r\n",
        " '''\r\n",
        "\r\n",
        " This are the best parameter after duing hyper tuning of decision"
      ]
    },
    {
      "cell_type": "code",
      "metadata": {
        "id": "xfEsUW4w4AeN",
        "colab": {
          "base_uri": "https://localhost:8080/"
        },
        "outputId": "6eefef6e-7ea4-4b31-ab49-f63c132d9eed"
      },
      "source": [
        "y_pred = dtree_cls.predict(X_test)\r\n",
        "generate_model_report(y_test, y_pred)\r\n",
        "print()\r\n",
        "\r\n",
        "cf_matrix = confusion_matrix(y_test, y_pred)\r\n",
        "cf_matrix"
      ],
      "execution_count": null,
      "outputs": [
        {
          "output_type": "stream",
          "text": [
            "Accuracy =  0.7061670182404765\n",
            "Precision =  0.44075892264826855\n",
            "Recall =  0.8644288316419464\n",
            "F1 Score =  0.5838312829525484\n",
            "\n"
          ],
          "name": "stdout"
        },
        {
          "output_type": "execute_result",
          "data": {
            "text/plain": [
              "array([[8060, 4215],\n",
              "       [ 521, 3322]])"
            ]
          },
          "metadata": {
            "tags": []
          },
          "execution_count": 172
        }
      ]
    },
    {
      "cell_type": "markdown",
      "metadata": {
        "id": "GjcmxAJiEuIr"
      },
      "source": [
        "Here we get accuracy as 70%\r\n",
        "\r\n",
        "and F1 Score as 58%\r\n",
        "\r\n",
        "Not satesifactory"
      ]
    },
    {
      "cell_type": "markdown",
      "metadata": {
        "id": "L8fTDx3IE37s"
      },
      "source": [
        "---"
      ]
    },
    {
      "cell_type": "markdown",
      "metadata": {
        "id": "G7pi-z03E4xx"
      },
      "source": [
        "<h2>RandomForestClassifier</h2>\r\n",
        "\r\n",
        "It is Bagging technique in Ensemble Technique. It is combination of many decision tree.\r\n",
        "\r\n",
        "**Random Forest**: The base estimator in random forest is **Decision Tree.** Random forest selects a set of features that are used to decide the best split at each node of DT. Steps:-\r\n",
        "\r\n",
        "1. Random subset is created from the original dataset.\r\n",
        "2. At each node in Decision Tree, only random set of feature are considered to decide best split.\r\n",
        "3. A Decision Tree model is fitted on each of the subsets.\r\n",
        "4. Final o/p is average of every Decision Tree.\r\n",
        "\r\n",
        "Important Parameters (n_estimators, criterion, min_samples_split, max_features, n_jobs)\r\n"
      ]
    },
    {
      "cell_type": "code",
      "metadata": {
        "id": "R9H4Q2Gm4AZG",
        "colab": {
          "base_uri": "https://localhost:8080/"
        },
        "outputId": "cb2474b8-c0ae-42eb-f811-3b37044e0dc4"
      },
      "source": [
        "rf_cls = RandomForestClassifier(class_weight='balanced')\r\n",
        "rf_cls.fit(X_train,y_train)"
      ],
      "execution_count": null,
      "outputs": [
        {
          "output_type": "execute_result",
          "data": {
            "text/plain": [
              "RandomForestClassifier(bootstrap=True, ccp_alpha=0.0, class_weight='balanced',\n",
              "                       criterion='gini', max_depth=None, max_features='auto',\n",
              "                       max_leaf_nodes=None, max_samples=None,\n",
              "                       min_impurity_decrease=0.0, min_impurity_split=None,\n",
              "                       min_samples_leaf=1, min_samples_split=2,\n",
              "                       min_weight_fraction_leaf=0.0, n_estimators=100,\n",
              "                       n_jobs=None, oob_score=False, random_state=None,\n",
              "                       verbose=0, warm_start=False)"
            ]
          },
          "metadata": {
            "tags": []
          },
          "execution_count": 173
        }
      ]
    },
    {
      "cell_type": "code",
      "metadata": {
        "id": "oRwupIlRETdX",
        "colab": {
          "base_uri": "https://localhost:8080/"
        },
        "outputId": "4241226b-e54c-43a5-8446-906ea22dba0c"
      },
      "source": [
        "rf_cls.score(X_train,y_train),rf_cls.score(X_test,y_test)"
      ],
      "execution_count": null,
      "outputs": [
        {
          "output_type": "execute_result",
          "data": {
            "text/plain": [
              "(0.9996638450019864, 0.8548827397940191)"
            ]
          },
          "metadata": {
            "tags": []
          },
          "execution_count": 174
        }
      ]
    },
    {
      "cell_type": "markdown",
      "metadata": {
        "id": "2vZS8r9WMss3"
      },
      "source": [
        "Validation accuracy = 99%\r\n",
        "\r\n",
        "Test set accuracy = 85%"
      ]
    },
    {
      "cell_type": "code",
      "metadata": {
        "id": "4tKwtjDHHGRF",
        "colab": {
          "base_uri": "https://localhost:8080/"
        },
        "outputId": "920a9b1e-3468-4c0f-c1cd-dbe30f133c77"
      },
      "source": [
        "y_pred = rf_cls.predict(X_test)\r\n",
        "generate_model_report(y_test, y_pred)\r\n",
        "print()\r\n",
        "\r\n",
        "cf_matrix = confusion_matrix(y_test, y_pred)\r\n",
        "cf_matrix"
      ],
      "execution_count": null,
      "outputs": [
        {
          "output_type": "stream",
          "text": [
            "Accuracy =  0.8548827397940191\n",
            "Precision =  0.7360326428123039\n",
            "Recall =  0.6102003642987249\n",
            "F1 Score =  0.6672357376582728\n",
            "\n"
          ],
          "name": "stdout"
        },
        {
          "output_type": "execute_result",
          "data": {
            "text/plain": [
              "array([[11434,   841],\n",
              "       [ 1498,  2345]])"
            ]
          },
          "metadata": {
            "tags": []
          },
          "execution_count": 175
        }
      ]
    },
    {
      "cell_type": "markdown",
      "metadata": {
        "id": "k1Vxt1vdF208"
      },
      "source": [
        "Here we get accuracy as 85%\r\n",
        "\r\n",
        "and F1 Score as 66%\r\n",
        "\r\n",
        "Better than Decision Tree, still not good.\r\n",
        "\r\n",
        "Lets try HyperTuning"
      ]
    },
    {
      "cell_type": "code",
      "metadata": {
        "id": "Hd1qJi4ZEZrV"
      },
      "source": [
        "n_estimators = [int(i) for i in np.linspace(100,1200,num=12)]\r\n",
        "\r\n",
        "max_depth = [int(i) for i in np.linspace(5,30,num=6)]\r\n",
        "\r\n",
        "max_features = ['auto','sqrt']\r\n",
        "\r\n",
        "min_samples_split = [4,5,7,10,15,100]\r\n",
        "\r\n",
        "min_samples_leaf = [1,5,7,10]\r\n",
        "\r\n",
        "min_weight_fraction_leaf =[0.1,0.2,0.4,0.5,0.7,0.6]\r\n",
        "\r\n",
        "ran_params = {'criterion':['gini','entropy'],\r\n",
        "              'n_estimators' : n_estimators,\r\n",
        "             'max_depth' : max_depth,\r\n",
        "             'max_features' : max_features,\r\n",
        "             'min_samples_split': min_samples_split,\r\n",
        "             'min_samples_leaf':min_samples_leaf,\r\n",
        "              \"max_leaf_nodes\":[None,10,20,30,40,50,60,70]}\r\n"
      ],
      "execution_count": null,
      "outputs": []
    },
    {
      "cell_type": "code",
      "metadata": {
        "id": "7Yi5CnowGoYM",
        "colab": {
          "base_uri": "https://localhost:8080/"
        },
        "outputId": "afdf5cdf-cb10-4f07-ff0c-8c96f04e8f10"
      },
      "source": [
        "rand_cls = RandomizedSearchCV(rf_cls,param_distributions=ran_params,\r\n",
        "                              n_iter=100,cv=5,\r\n",
        "                              scoring='neg_mean_squared_error',\r\n",
        "                              verbose=3,n_jobs=-1)\r\n",
        "\r\n",
        "rand_cls.fit(X_train,y_train)"
      ],
      "execution_count": null,
      "outputs": [
        {
          "output_type": "stream",
          "text": [
            "Fitting 5 folds for each of 100 candidates, totalling 500 fits\n"
          ],
          "name": "stdout"
        },
        {
          "output_type": "stream",
          "text": [
            "[Parallel(n_jobs=-1)]: Using backend LokyBackend with 2 concurrent workers.\n",
            "[Parallel(n_jobs=-1)]: Done  28 tasks      | elapsed:  3.5min\n",
            "[Parallel(n_jobs=-1)]: Done 124 tasks      | elapsed: 17.0min\n",
            "/usr/local/lib/python3.6/dist-packages/joblib/externals/loky/process_executor.py:691: UserWarning: A worker stopped while some jobs were given to the executor. This can be caused by a too short worker timeout or by a memory leak.\n",
            "  \"timeout or by a memory leak.\", UserWarning\n",
            "[Parallel(n_jobs=-1)]: Done 284 tasks      | elapsed: 37.7min\n",
            "[Parallel(n_jobs=-1)]: Done 500 out of 500 | elapsed: 67.8min finished\n"
          ],
          "name": "stderr"
        },
        {
          "output_type": "execute_result",
          "data": {
            "text/plain": [
              "RandomizedSearchCV(cv=5, error_score=nan,\n",
              "                   estimator=RandomForestClassifier(bootstrap=True,\n",
              "                                                    ccp_alpha=0.0,\n",
              "                                                    class_weight='balanced',\n",
              "                                                    criterion='gini',\n",
              "                                                    max_depth=None,\n",
              "                                                    max_features='auto',\n",
              "                                                    max_leaf_nodes=None,\n",
              "                                                    max_samples=None,\n",
              "                                                    min_impurity_decrease=0.0,\n",
              "                                                    min_impurity_split=None,\n",
              "                                                    min_samples_leaf=1,\n",
              "                                                    min_samples_split=2,\n",
              "                                                    min_weight_fraction_leaf=0.0,\n",
              "                                                    n_estimators=100,...\n",
              "                                        'max_depth': [5, 10, 15, 20, 25, 30],\n",
              "                                        'max_features': ['auto', 'sqrt'],\n",
              "                                        'max_leaf_nodes': [None, 10, 20, 30, 40,\n",
              "                                                           50, 60, 70],\n",
              "                                        'min_samples_leaf': [1, 5, 7, 10],\n",
              "                                        'min_samples_split': [4, 5, 7, 10, 15,\n",
              "                                                              100],\n",
              "                                        'n_estimators': [100, 200, 300, 400,\n",
              "                                                         500, 600, 700, 800,\n",
              "                                                         900, 1000, 1100,\n",
              "                                                         1200]},\n",
              "                   pre_dispatch='2*n_jobs', random_state=None, refit=True,\n",
              "                   return_train_score=False, scoring='neg_mean_squared_error',\n",
              "                   verbose=3)"
            ]
          },
          "metadata": {
            "tags": []
          },
          "execution_count": 183
        }
      ]
    },
    {
      "cell_type": "code",
      "metadata": {
        "id": "TW4_9ZfWG3sR",
        "colab": {
          "base_uri": "https://localhost:8080/"
        },
        "outputId": "08376367-792f-4f7f-da4e-1a73c9ccb4b6"
      },
      "source": [
        "'''\r\n",
        "{class_weight='balanced',\r\n",
        " 'criterion': 'gini',\r\n",
        " 'max_depth': 25,\r\n",
        " 'max_features': 'sqrt',\r\n",
        " 'max_leaf_nodes': None,\r\n",
        " 'min_samples_leaf': 1,\r\n",
        " 'min_samples_split': 10,\r\n",
        " 'n_estimators': 1200}\r\n",
        " '''\r\n",
        "\r\n",
        "rand_cls.best_params_"
      ],
      "execution_count": null,
      "outputs": [
        {
          "output_type": "execute_result",
          "data": {
            "text/plain": [
              "{'criterion': 'gini',\n",
              " 'max_depth': 25,\n",
              " 'max_features': 'sqrt',\n",
              " 'max_leaf_nodes': None,\n",
              " 'min_samples_leaf': 1,\n",
              " 'min_samples_split': 10,\n",
              " 'n_estimators': 1200}"
            ]
          },
          "metadata": {
            "tags": []
          },
          "execution_count": 184
        }
      ]
    },
    {
      "cell_type": "markdown",
      "metadata": {
        "id": "ZMAdkVf_MyIJ"
      },
      "source": [
        "'''\r\n",
        "\r\n",
        "{class_weight='balanced',\r\n",
        " 'criterion': 'gini',\r\n",
        " 'max_depth': 25,\r\n",
        " 'max_features': 'sqrt',\r\n",
        " 'max_leaf_nodes': None,\r\n",
        " 'min_samples_leaf': 1,\r\n",
        " 'min_samples_split': 10,\r\n",
        " 'n_estimators': 1200}\r\n",
        " \r\n",
        " '''\r\n",
        "\r\n",
        " This the Hypertuned Parameters of a Randomforest classifier"
      ]
    },
    {
      "cell_type": "code",
      "metadata": {
        "id": "iy0kO4WmXVka",
        "colab": {
          "base_uri": "https://localhost:8080/"
        },
        "outputId": "2b114cd2-39fe-4429-b981-3de3c0280605"
      },
      "source": [
        "y_pred = rand_cls.predict(X_test)\r\n",
        "generate_model_report(y_test, y_pred)\r\n",
        "print()\r\n",
        "\r\n",
        "cf_matrix = confusion_matrix(y_test, y_pred)\r\n",
        "cf_matrix"
      ],
      "execution_count": null,
      "outputs": [
        {
          "output_type": "stream",
          "text": [
            "Accuracy =  0.8506018116391612\n",
            "Precision =  0.6618542747575006\n",
            "Recall =  0.7634660421545667\n",
            "F1 Score =  0.7090381826969551\n",
            "\n"
          ],
          "name": "stdout"
        },
        {
          "output_type": "execute_result",
          "data": {
            "text/plain": [
              "array([[10776,  1499],\n",
              "       [  909,  2934]])"
            ]
          },
          "metadata": {
            "tags": []
          },
          "execution_count": 185
        }
      ]
    },
    {
      "cell_type": "markdown",
      "metadata": {
        "id": "8qvLMLiyODNH"
      },
      "source": [
        "Here we get accuracy as 85%\r\n",
        "\r\n",
        "and F1 Score as 71%\r\n",
        "\r\n",
        "This is best till now"
      ]
    },
    {
      "cell_type": "markdown",
      "metadata": {
        "id": "N-MMs8P7cyxf"
      },
      "source": [
        "---"
      ]
    },
    {
      "cell_type": "markdown",
      "metadata": {
        "id": "IFi4t9ufcMzF"
      },
      "source": [
        "<h2>XGBoost</h2>  \r\n",
        "\r\n",
        "XGBoost uses Regularization λ and LR  α as a main parameter\r\n",
        "\r\n",
        "Create a base model which give average of target target compute residual (y – yhat) now it will be our new target column, now create a binary Decision Tree (stump) (weather it as more than 2 classes) where xi is usual but yi is our new column Now calculate Similarity weight of both leaf node and root of the DT and calculate gain (sum of similarity weight of leaf minus similarity weight of root) select DT which has higher value with parameter Gama.\r\n",
        "After creating first model we have to create new data points by the help of formula:-\r\n",
        "\r\n",
        "New prediction = previous model prediction + α  ( output )\r\n",
        "\r\n",
        "Similarity weight=    Σ (Residual)2 /\r\n",
        "                   Σ(prob(1-prob)) + λ\r\n"
      ]
    },
    {
      "cell_type": "code",
      "metadata": {
        "id": "5XJr8yPfZ-fi",
        "colab": {
          "base_uri": "https://localhost:8080/"
        },
        "outputId": "46810ceb-e501-4455-ea44-d9bb3091907c"
      },
      "source": [
        "xg_cls = xgb.XGBClassifier()\r\n",
        "xg_cls.fit(X_train,y_train)"
      ],
      "execution_count": null,
      "outputs": [
        {
          "output_type": "execute_result",
          "data": {
            "text/plain": [
              "XGBClassifier(base_score=0.5, booster='gbtree', colsample_bylevel=1,\n",
              "              colsample_bynode=1, colsample_bytree=1, gamma=0,\n",
              "              learning_rate=0.1, max_delta_step=0, max_depth=3,\n",
              "              min_child_weight=1, missing=None, n_estimators=100, n_jobs=1,\n",
              "              nthread=None, objective='binary:logistic', random_state=0,\n",
              "              reg_alpha=0, reg_lambda=1, scale_pos_weight=1, seed=None,\n",
              "              silent=None, subsample=1, verbosity=1)"
            ]
          },
          "metadata": {
            "tags": []
          },
          "execution_count": 186
        }
      ]
    },
    {
      "cell_type": "code",
      "metadata": {
        "id": "PSOPawVhf7Ei",
        "colab": {
          "base_uri": "https://localhost:8080/"
        },
        "outputId": "3c64739a-91be-4324-bef5-4c32ec36b88a"
      },
      "source": [
        "y_pred = xg_cls.predict(X_test)\r\n",
        "generate_model_report(y_test, y_pred)\r\n",
        "print()\r\n",
        "\r\n",
        "cf_matrix = confusion_matrix(y_test, y_pred)\r\n",
        "cf_matrix"
      ],
      "execution_count": null,
      "outputs": [
        {
          "output_type": "stream",
          "text": [
            "Accuracy =  0.8635686809777888\n",
            "Precision =  0.7976104272266473\n",
            "Recall =  0.5732500650533437\n",
            "F1 Score =  0.6670704012112036\n",
            "\n"
          ],
          "name": "stdout"
        },
        {
          "output_type": "execute_result",
          "data": {
            "text/plain": [
              "array([[11716,   559],\n",
              "       [ 1640,  2203]])"
            ]
          },
          "metadata": {
            "tags": []
          },
          "execution_count": 187
        }
      ]
    },
    {
      "cell_type": "markdown",
      "metadata": {
        "id": "L7QYlUW_Plgs"
      },
      "source": [
        "Here we get accuracy as 86%\r\n",
        "\r\n",
        "and F1 Score as 66%\r\n",
        "\r\n",
        "Not the best."
      ]
    },
    {
      "cell_type": "markdown",
      "metadata": {
        "id": "wpGehgYTc5lC"
      },
      "source": [
        "---"
      ]
    },
    {
      "cell_type": "markdown",
      "metadata": {
        "id": "pxv1uHpoKAxe"
      },
      "source": [
        "<h2>KNeighborsClassifier</h2>\r\n",
        "\r\n",
        "KNN is for Supervised learning for Regression and Classification both\r\n",
        "\r\n",
        "It is also called Lazy learning because it doesn’t build generalize model during training, so the testing phase is important where actual job is done.\r\n",
        "\r\n",
        "**Classification** <br>\r\n",
        "In KNN classification first we have to select the k value, now find k nearest points from the new point using Euclidean distance or Manhattan distance from the dataset, now the new point belong to that group which has highest number of  nearest point.\r\n",
        "\r\n",
        "How to choose value of K<br>\r\n",
        "K Value is a hyper parameter which needs to choose at the time of model building. \r\n",
        "\r\n",
        "If there are outliers it difficult for classification in KNN.\r\n",
        "\r\n",
        "It is impacted by the imbalanced dataset.\r\n",
        "\r\n"
      ]
    },
    {
      "cell_type": "code",
      "metadata": {
        "id": "14mM60UYoFf3",
        "colab": {
          "base_uri": "https://localhost:8080/"
        },
        "outputId": "87558861-67f2-4a9d-d5dc-eb76cbfdf66f"
      },
      "source": [
        "knn = KNeighborsClassifier()\r\n",
        "knn.fit(X_train,y_train)"
      ],
      "execution_count": null,
      "outputs": [
        {
          "output_type": "execute_result",
          "data": {
            "text/plain": [
              "KNeighborsClassifier(algorithm='auto', leaf_size=30, metric='minkowski',\n",
              "                     metric_params=None, n_jobs=None, n_neighbors=5, p=2,\n",
              "                     weights='uniform')"
            ]
          },
          "metadata": {
            "tags": []
          },
          "execution_count": 191
        }
      ]
    },
    {
      "cell_type": "code",
      "metadata": {
        "id": "vrb23hpYoYFj",
        "colab": {
          "base_uri": "https://localhost:8080/"
        },
        "outputId": "dacdcece-68f2-494d-8bc0-16872797b007"
      },
      "source": [
        "y_pred = knn.predict(X_test)\r\n",
        "generate_model_report(y_test, y_pred)\r\n",
        "print()\r\n",
        "\r\n",
        "cf_matrix = confusion_matrix(y_test, y_pred)\r\n",
        "cf_matrix"
      ],
      "execution_count": null,
      "outputs": [
        {
          "output_type": "stream",
          "text": [
            "Accuracy =  0.8282044918724407\n",
            "Precision =  0.6605861244019139\n",
            "Recall =  0.5748113453031486\n",
            "F1 Score =  0.6147210240712397\n",
            "\n"
          ],
          "name": "stdout"
        },
        {
          "output_type": "execute_result",
          "data": {
            "text/plain": [
              "array([[11140,  1135],\n",
              "       [ 1634,  2209]])"
            ]
          },
          "metadata": {
            "tags": []
          },
          "execution_count": 192
        }
      ]
    },
    {
      "cell_type": "markdown",
      "metadata": {
        "id": "D5Apx0z0c8Pm"
      },
      "source": [
        "Here we get accuracy as 82%\r\n",
        "\r\n",
        "and F1 Score as 61%"
      ]
    },
    {
      "cell_type": "markdown",
      "metadata": {
        "id": "F5ICE_P5dJ5f"
      },
      "source": [
        "___"
      ]
    },
    {
      "cell_type": "markdown",
      "metadata": {
        "id": "OHR6TT1LdJ1n"
      },
      "source": [
        "<h1>Conclusion:-</h2>\r\n",
        "\r\n",
        "The best result we can get from the  Random forest Classifier with following parameters\r\n",
        "\r\n",
        "'''\r\n",
        "{class_weight='balanced',\r\n",
        " 'criterion': 'gini',\r\n",
        " 'max_depth': 25,\r\n",
        " 'max_features': 'sqrt',\r\n",
        " 'max_leaf_nodes': None,\r\n",
        " 'min_samples_leaf': 1,\r\n",
        " 'min_samples_split': 10,\r\n",
        " 'n_estimators': 1200}\r\n",
        " '''\r\n",
        "\r\n",
        " Which Gives us Result as:- <br>\r\n",
        "\r\n",
        "\r\n",
        "*   Accuracy =  0.8506018116391612\r\n",
        "*   F1 Score =  0.7090381826969551"
      ]
    },
    {
      "cell_type": "code",
      "metadata": {
        "id": "n_Q-ZcQ3dzkH"
      },
      "source": [
        ""
      ],
      "execution_count": null,
      "outputs": []
    }
  ]
}